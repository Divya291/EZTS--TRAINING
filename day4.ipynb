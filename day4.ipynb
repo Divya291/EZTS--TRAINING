{
 "cells": [
  {
   "cell_type": "code",
   "execution_count": 5,
   "id": "d4ac22c9-382f-4eb0-8a27-bacaacef30ca",
   "metadata": {},
   "outputs": [
    {
     "name": "stdin",
     "output_type": "stream",
     "text": [
      " hiii\n"
     ]
    },
    {
     "name": "stdout",
     "output_type": "stream",
     "text": [
      "['I']\n"
     ]
    }
   ],
   "source": [
    "s = input()\n",
    "dic = {'A':0,'E':0,'I':0,'O':0,'U':0}\n",
    "for i in s:\n",
    "    if i == 'a' or i =='A':\n",
    "        dic['A'] += 1\n",
    "    elif i == 'e' or i =='E':\n",
    "        dic['E'] += 1\n",
    "    elif i == 'i' or i =='I':\n",
    "        dic['I'] += 1\n",
    "    elif i == 'o' or i =='O':\n",
    "        dic['O'] += 1\n",
    "    elif i == 'u' or i =='U':\n",
    "        dic['U'] += 1\n",
    "\n",
    "x=max(dic.values())\n",
    "result = []\n",
    "for i,j in dic.items():\n",
    "    if j == x:\n",
    "        result.append(i)\n",
    "        \n",
    "return (result)\n",
    "\n",
    "\n"
   ]
  },
  {
   "cell_type": "code",
   "execution_count": null,
   "id": "cc0b8f6b-191c-43d1-b9f2-3768d570e7a9",
   "metadata": {},
   "outputs": [],
   "source": [
    "vowel"
   ]
  },
  {
   "cell_type": "code",
   "execution_count": 10,
   "id": "a30fd8f8-8a32-446a-b25e-8eccffca7ed5",
   "metadata": {},
   "outputs": [
    {
     "name": "stdout",
     "output_type": "stream",
     "text": [
      "{'Alice': ['I'], 'sam': ['A'], 'Jamie': ['A', 'I'], 'Taylor': ['E'], 'Chris': ['I']}\n"
     ]
    }
   ],
   "source": [
    "def count_vowel(s):\n",
    "    dic = {'A':0,'E':0,'I':0,'O':0,'U':0}\n",
    "    for i in s:\n",
    "        if i == 'a' or i =='A':\n",
    "            dic['A'] += 1\n",
    "        elif i == 'e' or i =='E':\n",
    "            dic['E'] += 1\n",
    "        elif i == 'i' or i =='I':\n",
    "            dic['I'] += 1\n",
    "        elif i == 'o' or i =='O':\n",
    "            dic['O'] += 1\n",
    "        elif i == 'u' or i =='U':\n",
    "            dic['U'] += 1\n",
    "\n",
    "    x=max(dic.values())\n",
    "    result = []\n",
    "    for i,j in dic.items():\n",
    "        if j == x:\n",
    "            result.append(i)\n",
    "        \n",
    "    return result\n",
    "    \n",
    "i_p=[\n",
    "    [\"Alice\",\"I enjoy biking in the mountain\"],\n",
    "    [\"sam\",\"A lovely sunny day at the beach\"],\n",
    "    [\"Jamie\",\"Reading a book is my favorite pastime\"],\n",
    "    [\"Taylor\",\"I love playing video games on weekend\"],\n",
    "    [\"Chris\",\"Eploring new cities is fun and exciting\"]\n",
    "]\n",
    "\n",
    "o_p = {}\n",
    "for i in i_p:\n",
    "    o_p[i[0]] = count_vowel(i[1])\n",
    "\n",
    "print(o_p)"
   ]
  },
  {
   "cell_type": "code",
   "execution_count": null,
   "id": "98407ade-2297-40e2-917a-e72eb23a6c27",
   "metadata": {},
   "outputs": [],
   "source": [
    "max sum of 3 consecutive number"
   ]
  },
  {
   "cell_type": "code",
   "execution_count": 12,
   "id": "3f46664a-a5a5-4577-8b83-803baf929dcd",
   "metadata": {},
   "outputs": [
    {
     "name": "stdout",
     "output_type": "stream",
     "text": [
      "18 6 5 7\n"
     ]
    }
   ],
   "source": [
    "l=[1,2,3,4,5,6,5,7,3,2]\n",
    "sum = max = 0\n",
    "for i in range(0,len(l)-2):\n",
    "    sum = l[i]+l[i+1]+l[i+2]\n",
    "    if max<sum:\n",
    "        max = sum\n",
    "        pos = i\n",
    "\n",
    "print(max,l[pos],l[pos+1],l[pos+2])"
   ]
  },
  {
   "cell_type": "code",
   "execution_count": null,
   "id": "c31e2d6c-3c1e-474a-a4aa-2695537c0684",
   "metadata": {},
   "outputs": [],
   "source": [
    "max sum of n consecutive number"
   ]
  },
  {
   "cell_type": "code",
   "execution_count": 13,
   "id": "480da2c9-9e43-439b-86a1-f6376e2732ee",
   "metadata": {},
   "outputs": [
    {
     "name": "stdin",
     "output_type": "stream",
     "text": [
      "enter the no of continious digit:  4\n"
     ]
    },
    {
     "name": "stdout",
     "output_type": "stream",
     "text": [
      "23\n",
      "5\n",
      "6\n",
      "5\n",
      "7\n"
     ]
    }
   ],
   "source": [
    "l=[1,2,3,4,5,6,5,7,3,2]\n",
    "sum = max = 0\n",
    "k = int(input(\"enter the no of continious digit: \"))\n",
    "for i in range(0,len(l)-k+1):\n",
    "    sum = 0\n",
    "    for j in range(0,k):\n",
    "        sum += l[i+j]\n",
    "    if max<sum:\n",
    "        max = sum\n",
    "        pos = i\n",
    "print(max)\n",
    "for j in range(0,k):\n",
    "    print(l[pos+j])\n"
   ]
  },
  {
   "cell_type": "code",
   "execution_count": 14,
   "id": "6e278a19-29fc-41af-a2b8-f3443e13b9b7",
   "metadata": {},
   "outputs": [
    {
     "name": "stdin",
     "output_type": "stream",
     "text": [
      "Enter the elements in list:  1 2 3 5 7 3 6 4 2 3 5\n",
      "enter the no of continious digit:  5\n"
     ]
    },
    {
     "name": "stdout",
     "output_type": "stream",
     "text": [
      "25\n",
      "5\n",
      "7\n",
      "3\n",
      "6\n",
      "4\n"
     ]
    }
   ],
   "source": [
    "l=list(map(int,input(\"Enter the elements in list: \").split(\" \")))\n",
    "sum = max = 0\n",
    "k = int(input(\"enter the no of continious digit: \"))\n",
    "for i in range(0,len(l)-k+1):\n",
    "    sum = 0\n",
    "    for j in range(0,k):\n",
    "        sum += l[i+j]\n",
    "    if max<sum:\n",
    "        max = sum\n",
    "        pos = i\n",
    "print(max)\n",
    "for j in range(0,k):\n",
    "    print(l[pos+j])\n"
   ]
  },
  {
   "cell_type": "code",
   "execution_count": null,
   "id": "5fb87e97-3df5-48e2-b778-19198902c0dc",
   "metadata": {},
   "outputs": [],
   "source": []
  }
 ],
 "metadata": {
  "kernelspec": {
   "display_name": "Python 3 (ipykernel)",
   "language": "python",
   "name": "python3"
  },
  "language_info": {
   "codemirror_mode": {
    "name": "ipython",
    "version": 3
   },
   "file_extension": ".py",
   "mimetype": "text/x-python",
   "name": "python",
   "nbconvert_exporter": "python",
   "pygments_lexer": "ipython3",
   "version": "3.12.3"
  }
 },
 "nbformat": 4,
 "nbformat_minor": 5
}
