{
 "cells": [
  {
   "cell_type": "code",
   "execution_count": null,
   "id": "0364a52a-d97a-4d96-b620-b00f2369b89e",
   "metadata": {},
   "outputs": [],
   "source": [
    "prime number"
   ]
  },
  {
   "cell_type": "code",
   "execution_count": 18,
   "id": "3c00e2f7-150e-4f00-a3ec-8b4d0c21179d",
   "metadata": {},
   "outputs": [
    {
     "name": "stdin",
     "output_type": "stream",
     "text": [
      "Enter the message:  5\n"
     ]
    },
    {
     "name": "stdout",
     "output_type": "stream",
     "text": [
      "valid message\n"
     ]
    }
   ],
   "source": [
    "m = int(input(\"Enter the message: \"))\n",
    "flag = 0\n",
    "if m<1:\n",
    "    flag = 1\n",
    "elif m == 1:\n",
    "    flag = 0\n",
    "else:\n",
    "    for i in range(2,(m//2)+1):\n",
    "        if m%i == 0:\n",
    "            flag = 1\n",
    "            break\n",
    " \n",
    "if flag == 0:\n",
    "    print(\"valid message\")\n",
    "else:\n",
    "    print(\"invalid message\")\n"
   ]
  },
  {
   "cell_type": "code",
   "execution_count": null,
   "id": "c9ba0524-9c61-4d6f-a409-0228089a8862",
   "metadata": {},
   "outputs": [],
   "source": [
    "fibonacci series"
   ]
  },
  {
   "cell_type": "code",
   "execution_count": 29,
   "id": "48bb5619-e76c-4fb9-bdbd-666ed1f57800",
   "metadata": {},
   "outputs": [
    {
     "name": "stdin",
     "output_type": "stream",
     "text": [
      "enter the number of terms:  -2\n"
     ]
    },
    {
     "name": "stdout",
     "output_type": "stream",
     "text": [
      "0\n",
      "1\n"
     ]
    }
   ],
   "source": [
    "n = int(input(\"enter the number of terms: \"))\n",
    "a = 0\n",
    "b = 1\n",
    "c = a+b\n",
    "if n==1:\n",
    "    print(a)\n",
    "elif n==2:\n",
    "    print(a)\n",
    "    print(b)\n",
    "else:\n",
    "    print(a)\n",
    "    print(b)\n",
    "    for i in range(2,n):\n",
    "        print(c)\n",
    "        a=b\n",
    "        b=c\n",
    "        c = a+b\n",
    "    \n",
    "    \n",
    "    "
   ]
  },
  {
   "cell_type": "code",
   "execution_count": 41,
   "id": "10f359e2-b6f4-4b22-9c8d-e3791bb85c0c",
   "metadata": {},
   "outputs": [
    {
     "name": "stdin",
     "output_type": "stream",
     "text": [
      "enter a number:  6\n"
     ]
    },
    {
     "name": "stdout",
     "output_type": "stream",
     "text": [
      "(7, 0, False)\n"
     ]
    }
   ],
   "source": [
    "def check_prime(m):\n",
    "    flag = 0\n",
    "    if m<1:\n",
    "        flag = 1\n",
    "    elif m == 1:\n",
    "        flag = 0\n",
    "    else:\n",
    "        for i in range(2,(m//2)+1):\n",
    "            if m%i == 0:\n",
    "                flag = 1\n",
    "                break\n",
    " \n",
    "    if flag == 0:\n",
    "        return 1\n",
    "    else:\n",
    "        return 0\n",
    "\n",
    "result = []\n",
    "N = int(input(\"enter a number: \"))\n",
    "flag = 0\n",
    "k = N+1\n",
    "while flag<1:\n",
    "    flag = check_prime(k)\n",
    "    if flag == 1:\n",
    "        result.append(k)\n",
    "    else:\n",
    "        k=k+1\n",
    "\n",
    "sum = 0\n",
    "for i in range(N+1,k):\n",
    "    sum+=i\n",
    "\n",
    "result.append(sum)\n",
    "\n",
    "p1=k\n",
    "\n",
    "flag = 0\n",
    "k = p1+1\n",
    "while flag<1:\n",
    "    flag = check_prime(k)\n",
    "    if flag == 1:\n",
    "        p2=k\n",
    "    else:\n",
    "        k=k+1\n",
    "\n",
    "p3=p1*p2\n",
    "flag=check_prime(p3)\n",
    "if flag==0:\n",
    "    result.append(False)\n",
    "else:\n",
    "    result.append(True)\n",
    "\n",
    "Prime_key=tuple(result)\n",
    "\n",
    "print(Prime_key)"
   ]
  },
  {
   "cell_type": "code",
   "execution_count": null,
   "id": "4e45f301-9863-42f6-8046-b664c252620d",
   "metadata": {},
   "outputs": [],
   "source": []
  }
 ],
 "metadata": {
  "kernelspec": {
   "display_name": "Python 3 (ipykernel)",
   "language": "python",
   "name": "python3"
  },
  "language_info": {
   "codemirror_mode": {
    "name": "ipython",
    "version": 3
   },
   "file_extension": ".py",
   "mimetype": "text/x-python",
   "name": "python",
   "nbconvert_exporter": "python",
   "pygments_lexer": "ipython3",
   "version": "3.12.3"
  }
 },
 "nbformat": 4,
 "nbformat_minor": 5
}
