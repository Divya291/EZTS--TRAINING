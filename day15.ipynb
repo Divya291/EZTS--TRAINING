{
 "cells": [
  {
   "cell_type": "code",
   "execution_count": null,
   "id": "917d03a6-40ac-493e-907a-0d6089e82e3b",
   "metadata": {},
   "outputs": [],
   "source": [
    "#KMP Algorithm"
   ]
  },
  {
   "cell_type": "code",
   "execution_count": 6,
   "id": "8af5cc62-e18b-4041-8252-08bb6b02de3b",
   "metadata": {},
   "outputs": [
    {
     "name": "stdout",
     "output_type": "stream",
     "text": [
      "[0, 0, 0, 1, 2]\n",
      "Pattern Found 12\n",
      "Pattern Found 15\n",
      "Pattern Found 18\n"
     ]
    }
   ],
   "source": [
    "def KMPAlgo(P,S):\n",
    "    M = len(P)\n",
    "    N = len(S)\n",
    "    lps=[]\n",
    "    LPS(P,M,lps)\n",
    "    print(lps)\n",
    "    i=0\n",
    "    j=0\n",
    "    while (N-i)>=(M-j):\n",
    "        if P[j]==S[i]:\n",
    "            i+=1\n",
    "            j+=1\n",
    "            \n",
    "        if j == M:\n",
    "            print(\"Pattern Found\",i-j)\n",
    "            j=lps[j-1]\n",
    "        elif i<N and P[j]!=S[i]:\n",
    "            if j!=0:\n",
    "                j=lps[j-1]\n",
    "            else:\n",
    "                i+=1\n",
    "            \n",
    "def LPS(P,M,lps):\n",
    "    lps.append(0)\n",
    "    j=0\n",
    "    for i in range(1,M):\n",
    "        if P[i]==P[j]:\n",
    "            lps.append(j+1)\n",
    "            j=j+1\n",
    "        else:\n",
    "            j=0\n",
    "            lps.append(j)\n",
    "    \n",
    "if __name__==\"__main__\":\n",
    "    S = \"ABABACDEABABABCABCABCABDAA\"\n",
    "    P = \"ABCAB\"\n",
    "    KMPAlgo(P,S)\n"
   ]
  },
  {
   "cell_type": "code",
   "execution_count": 23,
   "id": "365b34d2-a7dc-4bcb-8f69-6165ec279918",
   "metadata": {},
   "outputs": [
    {
     "name": "stdout",
     "output_type": "stream",
     "text": [
      "move 1 from A to C\n",
      "move 2 from A to B\n",
      "move 1 from C to B\n",
      "move 3 from A to C\n",
      "move 1 from B to A\n",
      "move 2 from B to C\n",
      "move 1 from A to C\n"
     ]
    }
   ],
   "source": [
    "#Tower of hanoi\n",
    "def tower(n,frm,to,aux):\n",
    "    if n == 0:\n",
    "        return\n",
    "    tower(n-1,frm,aux,to)\n",
    "    print(f\"move {n} from {frm} to {to}\")\n",
    "    tower(n-1,aux,to,frm)\n",
    "\n",
    "n=3\n",
    "tower(n,'A','C','B')"
   ]
  },
  {
   "cell_type": "code",
   "execution_count": 1,
   "id": "fad23502-c5f8-4f24-9c89-7d7e5133d73a",
   "metadata": {},
   "outputs": [
    {
     "name": "stdout",
     "output_type": "stream",
     "text": [
      "move 1 from A to B\n",
      "move 2 from A to C\n",
      "move 1 from B to C\n",
      "move 3 from A to B\n",
      "move 1 from C to A\n",
      "move 2 from C to B\n",
      "move 1 from A to B\n",
      "move 4 from A to C\n",
      "move 1 from B to C\n",
      "move 2 from B to A\n",
      "move 1 from C to A\n",
      "move 3 from B to C\n",
      "move 1 from A to B\n",
      "move 2 from A to C\n",
      "move 1 from B to C\n",
      "move 5 from A to B\n",
      "move 1 from C to A\n",
      "move 2 from C to B\n",
      "move 1 from A to B\n",
      "move 3 from C to A\n",
      "move 1 from B to C\n",
      "move 2 from B to A\n",
      "move 1 from C to A\n",
      "move 4 from C to B\n",
      "move 1 from A to B\n",
      "move 2 from A to C\n",
      "move 1 from B to C\n",
      "move 3 from A to B\n",
      "move 1 from C to A\n",
      "move 2 from C to B\n",
      "move 1 from A to B\n",
      "move 6 from A to C\n",
      "move 1 from B to C\n",
      "move 2 from B to A\n",
      "move 1 from C to A\n",
      "move 3 from B to C\n",
      "move 1 from A to B\n",
      "move 2 from A to C\n",
      "move 1 from B to C\n",
      "move 4 from B to A\n",
      "move 1 from C to A\n",
      "move 2 from C to B\n",
      "move 1 from A to B\n",
      "move 3 from C to A\n",
      "move 1 from B to C\n",
      "move 2 from B to A\n",
      "move 1 from C to A\n",
      "move 5 from B to C\n",
      "move 1 from A to B\n",
      "move 2 from A to C\n",
      "move 1 from B to C\n",
      "move 3 from A to B\n",
      "move 1 from C to A\n",
      "move 2 from C to B\n",
      "move 1 from A to B\n",
      "move 4 from A to C\n",
      "move 1 from B to C\n",
      "move 2 from B to A\n",
      "move 1 from C to A\n",
      "move 3 from B to C\n",
      "move 1 from A to B\n",
      "move 2 from A to C\n",
      "move 1 from B to C\n",
      "[63]\n"
     ]
    }
   ],
   "source": [
    "#Tower of hanoi\n",
    "ctr=[0]\n",
    "def tower(n,frm,to,aux,ctr):\n",
    "    if n == 0:\n",
    "        return\n",
    "    tower(n-1,frm,aux,to,ctr)\n",
    "    print(f\"move {n} from {frm} to {to}\")\n",
    "    ctr[0]+=1\n",
    "    tower(n-1,aux,to,frm,ctr)\n",
    "\n",
    "n=6\n",
    "tower(n,'A','C','B',ctr)\n",
    "print(ctr)"
   ]
  },
  {
   "cell_type": "code",
   "execution_count": null,
   "id": "02b42d39-3bf8-4a32-b4fc-d47da7fe9081",
   "metadata": {},
   "outputs": [],
   "source": []
  }
 ],
 "metadata": {
  "kernelspec": {
   "display_name": "Python 3 (ipykernel)",
   "language": "python",
   "name": "python3"
  },
  "language_info": {
   "codemirror_mode": {
    "name": "ipython",
    "version": 3
   },
   "file_extension": ".py",
   "mimetype": "text/x-python",
   "name": "python",
   "nbconvert_exporter": "python",
   "pygments_lexer": "ipython3",
   "version": "3.12.3"
  }
 },
 "nbformat": 4,
 "nbformat_minor": 5
}
