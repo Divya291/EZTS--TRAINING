{
 "cells": [
  {
   "cell_type": "code",
   "execution_count": null,
   "id": "e25d330f-9ff7-493f-800b-dd3a52ce72eb",
   "metadata": {},
   "outputs": [],
   "source": [
    "GRAPH"
   ]
  },
  {
   "cell_type": "code",
   "execution_count": null,
   "id": "0a46c832-52b1-4742-860d-a0ff845b65c8",
   "metadata": {},
   "outputs": [],
   "source": [
    "DFS"
   ]
  },
  {
   "cell_type": "code",
   "execution_count": 22,
   "id": "751402ed-3d75-473d-8594-1284e76b9672",
   "metadata": {},
   "outputs": [
    {
     "name": "stdout",
     "output_type": "stream",
     "text": [
      "4\n",
      "8\n",
      "6\n",
      "3\n",
      "5\n",
      "7\n",
      "2\n",
      "1\n"
     ]
    }
   ],
   "source": [
    "a = {\n",
    "    1:[(1,2,0),(1,3,0)],\n",
    "    2:[(2,1,0),(2,7,0)],\n",
    "    3:[(3,1,0),(3,6,0),(3,5,0)],\n",
    "    4:[(4,7,0),(4,8,0)],\n",
    "    5:[(5,3,0),(5,7,0)],\n",
    "    6:[(6,3,0),(6,8,0)],\n",
    "    7:[(7,2,0),(7,5,0),(7,4,0)],\n",
    "    8:[(8,4,0),(8,6,0)]\n",
    "}\n",
    "v = {\n",
    "    1:False,\n",
    "    2:False,\n",
    "    3:False,\n",
    "    4:False,\n",
    "    5:False,\n",
    "    6:False,\n",
    "    7:False,\n",
    "    8:False\n",
    "}\n",
    "s = []\n",
    "\n",
    "def DFS(a,v,s,e):\n",
    "    if v[e]==False:\n",
    "        s.append(e)\n",
    "        v[e]=True\n",
    "    else:\n",
    "        return\n",
    "    for i in a[e]:\n",
    "        DFS(a,v,s,i[1])\n",
    "    print(s.pop())\n",
    "\n",
    "\n",
    "DFS(a,v,s,1)"
   ]
  },
  {
   "cell_type": "code",
   "execution_count": null,
   "id": "fcdf6c9d-b9c4-4c6f-875b-26ac64423318",
   "metadata": {},
   "outputs": [],
   "source": [
    "BFS"
   ]
  },
  {
   "cell_type": "code",
   "execution_count": 27,
   "id": "015c81e2-9c74-4e69-8d1a-54717e3884a9",
   "metadata": {},
   "outputs": [
    {
     "name": "stdout",
     "output_type": "stream",
     "text": [
      "1\n",
      "2\n",
      "3\n",
      "7\n",
      "6\n",
      "5\n",
      "4\n",
      "8\n"
     ]
    }
   ],
   "source": [
    "a = {\n",
    "    1:[(1,2,0),(1,3,0)],\n",
    "    2:[(2,1,0),(2,7,0)],\n",
    "    3:[(3,1,0),(3,6,0),(3,5,0)],\n",
    "    4:[(4,7,0),(4,8,0)],\n",
    "    5:[(5,3,0),(5,7,0)],\n",
    "    6:[(6,3,0),(6,8,0)],\n",
    "    7:[(7,2,0),(7,5,0),(7,4,0)],\n",
    "    8:[(8,4,0),(8,6,0)]\n",
    "}\n",
    "v = {\n",
    "    1:False,\n",
    "    2:False,\n",
    "    3:False,\n",
    "    4:False,\n",
    "    5:False,\n",
    "    6:False,\n",
    "    7:False,\n",
    "    8:False\n",
    "}\n",
    "\n",
    "def BFS(a,e):\n",
    "    q=[e]\n",
    "    v={}\n",
    "    for i in a.keys():\n",
    "        v[i]=False\n",
    "    v[e]=True\n",
    "    while len(q)!=0:\n",
    "        curr=q.pop(0)\n",
    "        print(curr)\n",
    "        for i in a[curr]:\n",
    "            if v[i[1]]==False:\n",
    "                q.append(i[1])\n",
    "                v[i[1]]=True\n",
    "        \n",
    "BFS(a,1)"
   ]
  },
  {
   "cell_type": "code",
   "execution_count": null,
   "id": "b9a154f9-9f17-4af4-a514-9af547aca12f",
   "metadata": {},
   "outputs": [],
   "source": [
    "BST"
   ]
  },
  {
   "cell_type": "code",
   "execution_count": 5,
   "id": "bcae7806-3162-4eee-b630-a6a648ec4d42",
   "metadata": {},
   "outputs": [
    {
     "name": "stdout",
     "output_type": "stream",
     "text": [
      "1\n",
      "2\n",
      "3\n",
      "4\n",
      "5\n",
      "6\n",
      "7\n",
      "8\n",
      "9\n"
     ]
    }
   ],
   "source": [
    "class node:\n",
    "    def __init__(self,data):\n",
    "        self.value=data\n",
    "        self.left=None\n",
    "        self.right=None\n",
    "\n",
    "def ins_bst(root,val):\n",
    "    if root==None:\n",
    "         return node(val)\n",
    "    if val<root.value:\n",
    "        root.left=ins_bst(root.left,val)\n",
    "    if val>root.value:\n",
    "        root.right=ins_bst(root.right,val)\n",
    "    return root\n",
    "\n",
    "def inorder(root):\n",
    "    if root:\n",
    "        inorder(root.left)\n",
    "        print(root.value)\n",
    "        inorder(root.right)\n",
    "\n",
    "list = [4,6,7,3,8,2,5,9,1]\n",
    "root = node(list.pop(0))\n",
    "\n",
    "for i in list:\n",
    "        ins_bst(root,i)\n",
    "\n",
    "inorder(root)"
   ]
  },
  {
   "cell_type": "code",
   "execution_count": null,
   "id": "91283910-bba6-4c9a-bbb9-f5afdd5126d1",
   "metadata": {},
   "outputs": [],
   "source": []
  }
 ],
 "metadata": {
  "kernelspec": {
   "display_name": "Python 3 (ipykernel)",
   "language": "python",
   "name": "python3"
  },
  "language_info": {
   "codemirror_mode": {
    "name": "ipython",
    "version": 3
   },
   "file_extension": ".py",
   "mimetype": "text/x-python",
   "name": "python",
   "nbconvert_exporter": "python",
   "pygments_lexer": "ipython3",
   "version": "3.12.3"
  }
 },
 "nbformat": 4,
 "nbformat_minor": 5
}
