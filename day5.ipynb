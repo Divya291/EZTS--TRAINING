{
 "cells": [
  {
   "cell_type": "code",
   "execution_count": null,
   "id": "7fd06fd1-c100-4634-a64d-6494773c56f2",
   "metadata": {},
   "outputs": [],
   "source": [
    "stack"
   ]
  },
  {
   "cell_type": "code",
   "execution_count": 3,
   "id": "6e4dbab5-7003-4280-a3e2-3d1126aab269",
   "metadata": {},
   "outputs": [
    {
     "name": "stdout",
     "output_type": "stream",
     "text": [
      "[10, 20, 30, 40]\n",
      "40\n",
      "[10, 20, 30]\n",
      "3\n"
     ]
    }
   ],
   "source": [
    "class stack:\n",
    "    def __init__(self):\n",
    "        self.items = []\n",
    "\n",
    "    def push(self,data):\n",
    "        self.items.append(data)\n",
    "    def pop(self):\n",
    "        return self.items.pop()\n",
    "    def size(self):\n",
    "        return len(self.items)\n",
    "\n",
    "\n",
    "s=stack()\n",
    "\n",
    "s.push(10)\n",
    "s.push(20)\n",
    "s.push(30)\n",
    "s.push(40)\n",
    "print(s.items)\n",
    "print(s.pop())\n",
    "print(s.items)\n",
    "print(s.size())"
   ]
  },
  {
   "cell_type": "code",
   "execution_count": null,
   "id": "54867ada-a437-4f61-981b-e57d742831ba",
   "metadata": {},
   "outputs": [],
   "source": [
    "valid parenthesis"
   ]
  },
  {
   "cell_type": "code",
   "execution_count": 16,
   "id": "556a4357-72dc-4a1b-9e9e-3b733579e10d",
   "metadata": {},
   "outputs": [
    {
     "name": "stdout",
     "output_type": "stream",
     "text": [
      "invalid\n"
     ]
    }
   ],
   "source": [
    "e = \"[4-6(235(9+6)]\"\n",
    "s = stack()\n",
    "OB=\"[{(\"\n",
    "CB=\"]})\"\n",
    "flag = 0\n",
    "for i in e:\n",
    "    if i in OB:\n",
    "        s.push(i)\n",
    "    if i in CB:\n",
    "        x = s.pop()\n",
    "        if x==\"(\" and i==\")\":\n",
    "            pass\n",
    "        elif x==\"{\" and i==\"}\":\n",
    "            pass\n",
    "        elif x==\"[\" and i==\"]\":\n",
    "            pass\n",
    "        else:\n",
    "            flag = 1\n",
    "            break\n",
    "\n",
    "\n",
    "if (flag == 0):\n",
    "    print(\"valid\")\n",
    "else:\n",
    "    print(\"invalid\")"
   ]
  },
  {
   "cell_type": "code",
   "execution_count": 17,
   "id": "af50aeb0-7130-4cd7-bf4c-8449b4e95cca",
   "metadata": {},
   "outputs": [
    {
     "name": "stdout",
     "output_type": "stream",
     "text": [
      "invalid\n"
     ]
    }
   ],
   "source": [
    "e = \"[4-6(235(9+6)]\"\n",
    "s = stack()\n",
    "OB=\"[{(\"\n",
    "CB=\"]})\"\n",
    "flag = 0\n",
    "for i in e:\n",
    "    if i in OB:\n",
    "        s.push(i)\n",
    "    if i in CB:\n",
    "        x = s.pop()\n",
    "        if x==\"(\" and i==\")\":\n",
    "            pass\n",
    "        elif x==\"{\" and i==\"}\":\n",
    "            pass\n",
    "        elif x==\"[\" and i==\"]\":\n",
    "            pass\n",
    "        else:\n",
    "            flag = 1\n",
    "            break\n",
    "\n",
    "\n",
    "if (flag == 0 and s.size()==None):\n",
    "    print(\"valid\")\n",
    "else:\n",
    "    print(\"invalid\")"
   ]
  },
  {
   "cell_type": "code",
   "execution_count": null,
   "id": "15b282d7-04e7-4a78-9e2c-a1f3e2f75dab",
   "metadata": {},
   "outputs": [],
   "source": [
    "in a tyre factory many worker are working there each worker is assigned with a integer number which help them to find their \n",
    "supervisor.\n",
    "the project manager having an array that consists of a integer numbers help the project manager to find their supervisor.\n",
    "supervisor will be assigned as the first largest integer find on the right side of the array if not found return -1\n",
    "\n",
    "i/p = [3,5,2,14,5,3,7,9,4,6,9,4,2,5,3]\n",
    "o/p = [5,14,14,-1,7,7,9,-1,6,9,-1,5,5,-1,-1]"
   ]
  },
  {
   "cell_type": "code",
   "execution_count": 18,
   "id": "a3f07838-67d9-49ef-a7c4-172f48440681",
   "metadata": {},
   "outputs": [
    {
     "name": "stdout",
     "output_type": "stream",
     "text": [
      "[3, 5, 2, 14, 5, 3, 7, 9, 4, 6, 9, 4, 2, 5, 3]\n",
      "[5, 14, 14, -1, 7, 7, 9, -1, 6, 9, -1, 5, 5, -1, -1]\n"
     ]
    }
   ],
   "source": [
    "n = [3,5,2,14,5,3,7,9,4,6,9,4,2,5,3]\n",
    "k = []\n",
    "for i in range(0,len(n)):\n",
    "    m = n[i]\n",
    "    for j in range(i+1,len(n)):\n",
    "        l = n[j]\n",
    "        if l>m:\n",
    "            k.append(l)\n",
    "            break\n",
    "    else:\n",
    "        k.append(-1)\n",
    "print(n)\n",
    "print(k)"
   ]
  },
  {
   "cell_type": "code",
   "execution_count": 26,
   "id": "11c50ed8-0ef5-4e82-9421-98a25e1bad54",
   "metadata": {},
   "outputs": [
    {
     "name": "stdout",
     "output_type": "stream",
     "text": [
      "[5, 14, 14, -1, 7, 7, 9, -1, 6, 9, -1, 5, 5, -1, -1]\n"
     ]
    }
   ],
   "source": [
    "class stack:\n",
    "    def __init__(self):\n",
    "        self.items = []\n",
    "\n",
    "    def push(self,data):\n",
    "        self.items.append(data)\n",
    "    def pop(self):\n",
    "        return self.items.pop()\n",
    "    def size(self):\n",
    "        return len(self.items)\n",
    "    def top(self):\n",
    "        return self.items[-1]\n",
    "\n",
    "l = [3,5,2,14,5,3,7,9,4,6,9,4,2,5,3]\n",
    "o = [0]*len(l)\n",
    "s=stack()\n",
    "for i in range(len(l)-1,-1,-1):\n",
    "    if s.size() != 0:\n",
    "        while s.size() !=0 and s.top()<=l[i] :\n",
    "            if s.top() <= l[i]:\n",
    "                s.pop()\n",
    "    if s.size() == 0:\n",
    "        o[i]=-1\n",
    "    else:\n",
    "        o[i]=s.top()\n",
    "    s.push(l[i])\n",
    "\n",
    "print(o)\n",
    "    "
   ]
  },
  {
   "cell_type": "code",
   "execution_count": null,
   "id": "a9315126-007a-4cb7-81e0-a4589d781718",
   "metadata": {},
   "outputs": [],
   "source": [
    "queue"
   ]
  },
  {
   "cell_type": "code",
   "execution_count": null,
   "id": "49caf485-1772-4865-b442-c3f4fd088543",
   "metadata": {},
   "outputs": [],
   "source": [
    "class queue:\n",
    "    def __init__(self):\n",
    "        self.items=[]\n",
    "    def push(self,data):\n",
    "        self.item.append(data)\n",
    "    def pop(self):\n",
    "        return self.item.pop(0)\n",
    "    def size(self):\n",
    "        return len(self.item)\n"
   ]
  },
  {
   "cell_type": "code",
   "execution_count": null,
   "id": "1b3a60a8-42cc-4fac-9f93-f0744779ec70",
   "metadata": {},
   "outputs": [],
   "source": [
    "link list\n",
    "node"
   ]
  },
  {
   "cell_type": "code",
   "execution_count": 32,
   "id": "75efef5c-8263-447f-aa2b-d48ff1642d8e",
   "metadata": {},
   "outputs": [],
   "source": [
    "class node:\n",
    "    def __init__(self,data):\n",
    "        self.value=data\n",
    "        self.next=None\n",
    "\n",
    "Head=Tail=node(10)\n",
    "\n",
    "Tail.next=node(20)\n",
    "Tail = Tail.next\n",
    "\n",
    "Tail.next=node(30)\n",
    "Tail = Tail.next\n",
    "\n",
    "Tail.next=node(40)\n",
    "Tail = Tail.next\n",
    "\n",
    "#Head.next=Node(20)\n",
    "#Head.next.next = node(30)\n"
   ]
  },
  {
   "cell_type": "code",
   "execution_count": 33,
   "id": "591fa712-f1d4-4082-b94b-b877e2b07c6e",
   "metadata": {},
   "outputs": [
    {
     "name": "stdout",
     "output_type": "stream",
     "text": [
      "<__main__.node object at 0x0000029B63C864E0>\n",
      "<__main__.node object at 0x0000029B63D9EE40>\n",
      "<__main__.node object at 0x0000029B63D9EE40>\n"
     ]
    }
   ],
   "source": [
    "print(Head)\n",
    "print(Tail)\n",
    "print(Head.next.next.next)\n"
   ]
  },
  {
   "cell_type": "code",
   "execution_count": 38,
   "id": "22c5b34c-05e9-41f4-a729-ee058c07892c",
   "metadata": {},
   "outputs": [
    {
     "name": "stdout",
     "output_type": "stream",
     "text": [
      "10\n",
      "20\n",
      "30\n",
      "40\n"
     ]
    }
   ],
   "source": [
    "def print_link_list(Head):\n",
    "    if Head == None:\n",
    "        print(\"list is empty\")\n",
    "        return\n",
    "    curr=Head\n",
    "    while curr != None:\n",
    "        print(curr.value)\n",
    "        curr=curr.next\n",
    "\n",
    "print_link_list(Head)"
   ]
  },
  {
   "cell_type": "code",
   "execution_count": null,
   "id": "7b4f6e98-be76-42a9-b0fe-2ba32742ad39",
   "metadata": {},
   "outputs": [],
   "source": []
  }
 ],
 "metadata": {
  "kernelspec": {
   "display_name": "Python 3 (ipykernel)",
   "language": "python",
   "name": "python3"
  },
  "language_info": {
   "codemirror_mode": {
    "name": "ipython",
    "version": 3
   },
   "file_extension": ".py",
   "mimetype": "text/x-python",
   "name": "python",
   "nbconvert_exporter": "python",
   "pygments_lexer": "ipython3",
   "version": "3.12.3"
  }
 },
 "nbformat": 4,
 "nbformat_minor": 5
}
