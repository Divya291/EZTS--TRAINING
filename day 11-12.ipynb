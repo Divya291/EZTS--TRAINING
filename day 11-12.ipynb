{
 "cells": [
  {
   "cell_type": "code",
   "execution_count": 30,
   "id": "c007bffe-1079-4298-b207-b31a37a54076",
   "metadata": {},
   "outputs": [
    {
     "name": "stdout",
     "output_type": "stream",
     "text": [
      "{0: 5.0, 1: 3.3333333333333335, 2: 3.0, 3: 1.75, 4: 8.0, 5: 3.0, 6: 2.0}\n",
      "[(0, 5.0), (1, 3.3333333333333335), (2, 3.0), (3, 1.75), (4, 8.0), (5, 3.0), (6, 2.0)]\n",
      "3.0\n",
      "sorting using lambda function [(4, 8.0), (0, 5.0), (1, 3.3333333333333335), (2, 3.0), (5, 3.0), (6, 2.0), (3, 1.75)]\n",
      "[(4, 8.0), (0, 5.0), (1, 3.3333333333333335), (2, 3.0), (5, 3.0), (6, 2.0), (3, 1.75)]\n",
      "[(4, 8.0), (0, 5.0), (1, 3.3333333333333335), (2, 3.0), (5, 3.0), (6, 2.0), (3, 1.75)]\n"
     ]
    }
   ],
   "source": [
    "p=[5,10,15,7,8,9,4]\n",
    "w=[1,3,5,4,1,3,2]\n",
    "\n",
    "p_w={}\n",
    "for i in range(len(p)):\n",
    "    p_w[i]=p[i]/w[i]\n",
    "\n",
    "print(p_w)\n",
    "\n",
    "L = list(p_w.items())\n",
    "\n",
    "print(L)\n",
    "\n",
    "n=len(L)\n",
    "\n",
    "B = lambda x:L[x][1]\n",
    "print(B(2))\n",
    "sorted_list = sorted(L,key=lambda x: x[1],reverse=True)\n",
    "print(\"sorting using lambda function\",sorted_list)\n",
    "\n",
    "L.sort(key=lambda x: x[1],reverse=True)\n",
    "\n",
    "for i in range(n-1):\n",
    "    max=i\n",
    "    for j in range(i+1,n):\n",
    "        if L[j][1] > L[max][1]:\n",
    "            max=j\n",
    "    L[i],L[max]=L[max],L[i]\n",
    "\n",
    "print(l)\n",
    "sorted_pw={}\n",
    "for i in L:\n",
    "    sorted_pw[i[0]]=i[1]\n",
    "print(sorted_list)"
   ]
  },
  {
   "cell_type": "code",
   "execution_count": 9,
   "id": "cdf883eb-6a6f-4f19-ae8d-5db979ceabeb",
   "metadata": {},
   "outputs": [
    {
     "name": "stdout",
     "output_type": "stream",
     "text": [
      "400\n",
      "90\n"
     ]
    }
   ],
   "source": [
    "#lambda Function\n",
    "\n",
    "def a(x):\n",
    "    return x*x\n",
    "\n",
    "#def b(x):\n",
    "#    return x-4\n",
    "\n",
    "B = lambda x,y,z:x+y+z\n",
    "\n",
    "print(a(20))\n",
    "print(B(20,30,40))"
   ]
  },
  {
   "cell_type": "code",
   "execution_count": 1,
   "id": "0bfb5137-7a57-47b8-a58d-9a5c04a4771d",
   "metadata": {},
   "outputs": [
    {
     "name": "stdout",
     "output_type": "stream",
     "text": [
      "51\n"
     ]
    }
   ],
   "source": [
    "#dynamic programming\n",
    "\n",
    "def cal_max(p,w,c,n):\n",
    "    if n==0 or c==0:\n",
    "        return 0\n",
    "    if (w[n-1]>c):\n",
    "        return cal_max(p,w,c,n-1)\n",
    "    else:\n",
    "        return max(p[n-1]+ cal_max(p,w,c-w[n-1],n-1),cal_max(p,w,c,n-1))\n",
    "\n",
    "\n",
    "p=[5,10,15,7,8,9,4]\n",
    "w=[1,3,5,4,1,3,2]\n",
    "c=15\n",
    "n=len(p)\n",
    "print(cal_max(p,w,c,n))"
   ]
  },
  {
   "cell_type": "code",
   "execution_count": 2,
   "id": "fad547c1-b778-4da4-8560-09da68389850",
   "metadata": {},
   "outputs": [
    {
     "name": "stdout",
     "output_type": "stream",
     "text": [
      "51\n",
      "[[-1, -1, -1, -1, -1, -1, -1, -1, -1, -1, -1, -1, -1, -1, -1, -1], [-1, 5, 5, 5, 5, 5, 5, 5, 5, 5, 5, 5, 5, 5, 5, 5], [-1, 5, 5, 10, 15, 15, 15, 15, 15, 15, 15, 15, 15, 15, 15, 15], [-1, -1, -1, -1, -1, 15, 20, 20, 25, 30, 30, 30, 30, 30, 30, 30], [-1, -1, -1, -1, -1, -1, -1, -1, -1, 30, 30, 30, 32, 37, 37, 37], [-1, -1, -1, -1, -1, -1, -1, -1, -1, -1, 38, -1, 38, 40, -1, 45], [-1, -1, -1, -1, -1, -1, -1, -1, -1, -1, -1, -1, -1, 47, -1, 47], [-1, -1, -1, -1, -1, -1, -1, -1, -1, -1, -1, -1, -1, -1, -1, 51]]\n"
     ]
    }
   ],
   "source": [
    "def calc_max(p,w,c,n):\n",
    "    if n==0 or c==0:\n",
    "        return 0\n",
    "    if dp[n][c]!=-1:\n",
    "        return dp[n][c]\n",
    "    if (w[n-1]<=c):\n",
    "        dp[n][c]=max(p[n-1]+calc_max(p,w,c-w[n-1],n-1),calc_max(p,w,c,n-1))\n",
    "        return dp[n][c]\n",
    "    else:\n",
    "        dp[n][c]=calc_max(p,w,c,n-1)\n",
    "        return dp[n][c]\n",
    "\n",
    "\n",
    "p=[5,10,15,7,8,9,4]\n",
    "w=[1,3,5,4,1,3,2]\n",
    "c=15\n",
    "n=len(p)\n",
    "dp=[[-1 for i in range(c+1)] for j in range(n+1)]\n",
    "print(calc_max(p,w,c,n))\n",
    "print(dp)"
   ]
  },
  {
   "cell_type": "code",
   "execution_count": null,
   "id": "92a45a4e-7168-457f-b21f-213c732f6978",
   "metadata": {},
   "outputs": [],
   "source": []
  }
 ],
 "metadata": {
  "kernelspec": {
   "display_name": "Python 3 (ipykernel)",
   "language": "python",
   "name": "python3"
  },
  "language_info": {
   "codemirror_mode": {
    "name": "ipython",
    "version": 3
   },
   "file_extension": ".py",
   "mimetype": "text/x-python",
   "name": "python",
   "nbconvert_exporter": "python",
   "pygments_lexer": "ipython3",
   "version": "3.12.3"
  }
 },
 "nbformat": 4,
 "nbformat_minor": 5
}
