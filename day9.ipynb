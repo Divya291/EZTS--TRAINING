{
 "cells": [
  {
   "cell_type": "code",
   "execution_count": 7,
   "id": "3eb1a32a-7e03-4341-b40e-d3df1c881815",
   "metadata": {},
   "outputs": [
    {
     "name": "stdout",
     "output_type": "stream",
     "text": [
      "0\n",
      "2\n",
      "7\n",
      "12\n",
      "17\n",
      "19\n",
      "27\n",
      "29\n",
      "34\n",
      "38\n",
      "75\n",
      "99\n",
      "100\n",
      "134\n",
      "143\n"
     ]
    }
   ],
   "source": [
    "#AVL tree\n",
    "\n",
    "class node:\n",
    "    def __init__(self,data):\n",
    "        self.val=data\n",
    "        self.left=None\n",
    "        self.right=None\n",
    "        self.height=1\n",
    "\n",
    "def insert(root,super):\n",
    "    if not root:\n",
    "        return node(super)\n",
    "    if super<root.val:\n",
    "        root.left=insert(root.left,super)\n",
    "    else:\n",
    "        root.right=insert(root.right,super)\n",
    "        \n",
    "    root.height = 1+max(ght(root.left),ght(root.right))\n",
    "        \n",
    "    BF=getBF(root)\n",
    "\n",
    "    #RR rotation\n",
    "    if BF>1 and super<root.left.val:\n",
    "        return rightRotate(root)\n",
    "    #RL rotation\n",
    "    if BF>1 and super>root.left.val:\n",
    "        root.left = leftRotate(root.left)\n",
    "        return rightRotate(root)\n",
    "    #LL rotation\n",
    "    if BF<-1 and super>root.right.val:\n",
    "        return leftRotate(root)\n",
    "    #LR rotation\n",
    "    if BF<-1 and super<root.right.val:\n",
    "        root.right = rightRotate(root.right)\n",
    "        return leftRotate(root)\n",
    "        \n",
    "    return root\n",
    "\n",
    "def ght(root): #get height\n",
    "    if not root:\n",
    "        return 0\n",
    "    return root.height\n",
    "\n",
    "def getBF(root):#get balance factor\n",
    "    if not root:\n",
    "        return 0\n",
    "    return ght(root.left)-ght(root.right)\n",
    "\n",
    "def leftRotate(A):\n",
    "    B=A.right\n",
    "    temp=B.left\n",
    "    \n",
    "    B.left=A\n",
    "    A.right=temp\n",
    "    \n",
    "    A.height = 1+max(ght(A.left),ght(A.right))\n",
    "    B.height = 1+max(ght(B.left),ght(B.right))\n",
    "    \n",
    "    return B\n",
    "\n",
    "def rightRotate(A):\n",
    "    B=A.left\n",
    "    temp=B.right\n",
    "    \n",
    "    B.right=A\n",
    "    A.left=temp\n",
    "    \n",
    "    A.height = 1+max(ght(A.left),ght(A.right))\n",
    "    B.height = 1+max(ght(B.left),ght(B.right))\n",
    "    \n",
    "    return B\n",
    "\n",
    "def inorder(root):  #print the data in inorder format\n",
    "    if not root:\n",
    "        return\n",
    "    inorder(root.left)\n",
    "    print(root.val)\n",
    "    inorder(root.right)\n",
    "\n",
    "if __name__==\"__main__\":\n",
    "    root = None\n",
    "    vl = [19,99,75,7,2,34,38,27,134,100,29,0,12,17,143]\n",
    "    for i in vl:\n",
    "        root=insert(root,i)\n",
    "        \n",
    "    inorder(root)"
   ]
  },
  {
   "cell_type": "code",
   "execution_count": 1,
   "id": "7a679f67-7233-4990-a360-d47ceb2eda39",
   "metadata": {},
   "outputs": [
    {
     "name": "stdout",
     "output_type": "stream",
     "text": [
      "2\n"
     ]
    }
   ],
   "source": [
    "l = [5,-10,-3,-5,6,2]\n",
    "n = float('inf')  # Initialize n to positive infinity\n",
    "\n",
    "for i in l:\n",
    "    if i > 0:\n",
    "        if i < n:\n",
    "            n = i\n",
    "\n",
    "if n == float('inf'):\n",
    "    print(0)\n",
    "else:\n",
    "    print(n)\n"
   ]
  },
  {
   "cell_type": "code",
   "execution_count": 2,
   "id": "a9b7c17e-8f02-4d77-8568-5d65114c74f8",
   "metadata": {},
   "outputs": [
    {
     "name": "stdin",
     "output_type": "stream",
     "text": [
      " 100000\n"
     ]
    },
    {
     "name": "stdout",
     "output_type": "stream",
     "text": [
      "99001\n"
     ]
    }
   ],
   "source": [
    "n = int(input())  \n",
    "\n",
    "count = 0\n",
    "\n",
    "for i in range(1, n + 1):\n",
    "    num = str(i)\n",
    "    if len(num) <= 3:  \n",
    "        count += 0\n",
    "    elif len(num) <= 6:  \n",
    "        count += 1\n",
    "    elif len(num) <= 9:  \n",
    "        count += 2\n",
    "\n",
    "print(count)\n"
   ]
  },
  {
   "cell_type": "code",
   "execution_count": 3,
   "id": "95295b0a-5569-4ed4-9592-dc808ca218ca",
   "metadata": {},
   "outputs": [
    {
     "name": "stdout",
     "output_type": "stream",
     "text": [
      "8\n"
     ]
    }
   ],
   "source": [
    "l = [4,-1,-3,6,-2,-1,3,2,-8,-2]\n",
    "n = len(l)\n",
    "max_sum = float('-inf')  \n",
    "for i in range(n):\n",
    "    curr_sum = 0\n",
    "    for j in range(i, n):\n",
    "        curr_sum += l[j]\n",
    "        if curr_sum > max_sum:\n",
    "            max_sum = curr_sum\n",
    "\n",
    "print(max_sum)"
   ]
  },
  {
   "cell_type": "code",
   "execution_count": null,
   "id": "6a2da506-cdfa-4f55-9554-8f27bcb217d4",
   "metadata": {},
   "outputs": [],
   "source": []
  }
 ],
 "metadata": {
  "kernelspec": {
   "display_name": "Python 3 (ipykernel)",
   "language": "python",
   "name": "python3"
  },
  "language_info": {
   "codemirror_mode": {
    "name": "ipython",
    "version": 3
   },
   "file_extension": ".py",
   "mimetype": "text/x-python",
   "name": "python",
   "nbconvert_exporter": "python",
   "pygments_lexer": "ipython3",
   "version": "3.12.3"
  }
 },
 "nbformat": 4,
 "nbformat_minor": 5
}
