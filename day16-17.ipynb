{
 "cells": [
  {
   "cell_type": "code",
   "execution_count": 3,
   "id": "fed5a6e5-f1f7-4066-8f32-c8bdf93a36c7",
   "metadata": {},
   "outputs": [
    {
     "name": "stdout",
     "output_type": "stream",
     "text": [
      "[False, False, False, False, False, False, False, False, False, False]\n",
      "[10, 100, 22, 50, 92, 79, 56, 47, False, 99]\n"
     ]
    }
   ],
   "source": [
    "#Hashing\n",
    "k = [22,10,47,56,100,50,92,99,79]  \n",
    "hashList = [False for _ in range(10)]\n",
    "print(hashList)\n",
    "for e in k:\n",
    "    for j in range(len(k)):\n",
    "        x=((e%10)+j)%10\n",
    "        if hashList[x]==False:\n",
    "            hashList[x]=e\n",
    "            break\n",
    "\n",
    "print(hashList)"
   ]
  },
  {
   "cell_type": "code",
   "execution_count": 2,
   "id": "a0bf9d1a-cc1f-4a4b-8039-5a96352925d7",
   "metadata": {},
   "outputs": [
    {
     "name": "stdout",
     "output_type": "stream",
     "text": [
      "14\n"
     ]
    }
   ],
   "source": [
    "#Min cost Matrix\n",
    "\n",
    "arr = [\n",
    "    [1,2,2,3],\n",
    "    [3,1,4,2],\n",
    "    [1,5,3,3],\n",
    "    [1,2,1,1]\n",
    "]\n",
    "n=len(arr)-1\n",
    "m=len(arr[0])-1\n",
    "\n",
    "i=j=0\n",
    "\n",
    "sum = arr[i][j]\n",
    "\n",
    "while i<n or j<m:\n",
    "    if i==n:\n",
    "        j+=1\n",
    "    elif j==m:\n",
    "        i+=1\n",
    "    elif arr[i][j+1] < arr[i+1][j]:\n",
    "        j+=1\n",
    "    else:\n",
    "        i+=1\n",
    "    sum += arr[i][j]\n",
    "\n",
    "print(sum)\n",
    "    "
   ]
  },
  {
   "cell_type": "code",
   "execution_count": 20,
   "id": "cf88eddf-c1e8-4621-9350-b0df6ca354e0",
   "metadata": {},
   "outputs": [
    {
     "name": "stdout",
     "output_type": "stream",
     "text": [
      "14\n"
     ]
    }
   ],
   "source": [
    "arr = [\n",
    "    [1,2,2,3],\n",
    "    [3,1,4,2],\n",
    "    [1,5,3,3],\n",
    "    [1,2,1,1]\n",
    "]\n",
    "n=len(arr)-1\n",
    "m=len(arr[0])-1\n",
    "i=j=0\n",
    "sum = arr[i][j]\n",
    "while (i<n and j<m):\n",
    "    if arr[i][j+1]<arr[i+1][j]:\n",
    "        j=j+1\n",
    "        sum+=arr[i][j]\n",
    "    else:\n",
    "        i=i+1\n",
    "        sum+=arr[i][j]\n",
    "        \n",
    "while i<n:\n",
    "    i=i+1\n",
    "    sum+=arr[i][j]\n",
    "    \n",
    "while j<m:\n",
    "    j=j+1\n",
    "    sum+=arr[i][j]\n",
    "    \n",
    "     \n",
    "print(sum)"
   ]
  },
  {
   "cell_type": "code",
   "execution_count": null,
   "id": "07447e5a-c14e-4c6f-8649-23d3929208dc",
   "metadata": {},
   "outputs": [],
   "source": []
  }
 ],
 "metadata": {
  "kernelspec": {
   "display_name": "Python 3 (ipykernel)",
   "language": "python",
   "name": "python3"
  },
  "language_info": {
   "codemirror_mode": {
    "name": "ipython",
    "version": 3
   },
   "file_extension": ".py",
   "mimetype": "text/x-python",
   "name": "python",
   "nbconvert_exporter": "python",
   "pygments_lexer": "ipython3",
   "version": "3.12.3"
  }
 },
 "nbformat": 4,
 "nbformat_minor": 5
}
