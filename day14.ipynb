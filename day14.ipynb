{
 "cells": [
  {
   "cell_type": "code",
   "execution_count": null,
   "id": "2a794c60-dd8a-4fd0-8446-7a8fadd11401",
   "metadata": {},
   "outputs": [],
   "source": [
    "#Dijkstra Algorithm"
   ]
  },
  {
   "cell_type": "code",
   "execution_count": 10,
   "id": "9771c383-c4b6-4351-aa02-1edb95e726de",
   "metadata": {},
   "outputs": [
    {
     "name": "stdout",
     "output_type": "stream",
     "text": [
      "[(0, 1), (0, 2), (0, 3), (1, 4), (2, 1), (2, 4), (3, 2), (3, 5), (4, 5)]\n",
      "{0: 0, 1: inf, 2: inf, 3: inf, 4: inf, 5: inf}\n",
      "{0: 0, 1: 1, 2: 3, 3: 5, 4: 0, 5: 3}\n"
     ]
    }
   ],
   "source": [
    "#sorted distance form single source\n",
    "\n",
    "G = [#A  B  C  D  E  F\n",
    "    [0,6,4,5,False,False],\n",
    "    [False,0,False,False,-1,False],\n",
    "    [False,-2,0,False,3,False],\n",
    "    [False,False,-2,0,False,-1],\n",
    "    [False,False,False,False,0,3],\n",
    "    [False,False,False,False,False,0]\n",
    "]\n",
    "\n",
    "#d={0:'A',1:'B',2:'C',3:'D',4:'E',5:'F'}\n",
    "\n",
    "E_L = []\n",
    "for i in range(len(G)):\n",
    "    for j in range(len(G[i])):\n",
    "        if G[i][j]!=False and G[i][j]!=0:\n",
    "            E_L.append(tuple((i,j)))\n",
    "\n",
    "print(E_L)\n",
    "\n",
    "dist = {}\n",
    "for i in range(len(G)):\n",
    "    dist[i]=float(\"inf\")\n",
    "\n",
    "dist[0]=0\n",
    "print(dist)\n",
    "for i in range(len(G)-1):\n",
    "    for j in E_L:\n",
    "        new_dist = dist[j[0]]+G[j[0]][j[1]]\n",
    "        if dist[j[1]]>new_dist:\n",
    "            dist[j[1]]=new_dist\n",
    "\n",
    "print(dist)"
   ]
  },
  {
   "cell_type": "code",
   "execution_count": 12,
   "id": "79bf3724-b9a7-4014-87c1-721976d6e56d",
   "metadata": {},
   "outputs": [
    {
     "name": "stdout",
     "output_type": "stream",
     "text": [
      "[0, 6, 10, 5, 8, 11, 8, 2, 16, 10]\n"
     ]
    }
   ],
   "source": [
    "#Dijkastra Algorithm\n",
    "\n",
    "G = [\n",
    "    [ 0, 7,False,False,False,False,False, 2,False,False],\n",
    "    [ 7, 0, 4, 1,False, 5,False,False,False,False],\n",
    "    [False, 4, 0,False,False,False,False, 8,False,False],\n",
    "    [False, 1,False, 0, 6, 8, 3, 3,False,False],\n",
    "    [False,False,False, 6, 0,False,False, 6, 8,False],\n",
    "    [False, 5,False, 8,False, 0,False,False,False,False],\n",
    "    [False,False,False, 3,False,False, 0,False, 9, 2],\n",
    "    [ 2,False, 8, 3, 6,False,False, 0,False,False],\n",
    "    [False,False,False,False, 8,False, 9,False, 0,False],\n",
    "    [False,False,False,False,False,False, 2,False,False, 0]\n",
    "]\n",
    "\n",
    "temp = {}\n",
    "\n",
    "for i in range(len(G)):\n",
    "    temp[i]=float('inf')\n",
    "\n",
    "dist = [float('inf')]*len(G)\n",
    "\n",
    "temp[0]=0\n",
    "\n",
    "while len(temp)>0:\n",
    "    min_value = min(temp.values())\n",
    "    min_key = min(temp,key=temp.get)\n",
    "    temp.pop(min_key)\n",
    "    dist[min_key]=min_value\n",
    "    for j in range(len(G[min_key])):\n",
    "        if G[min_key][j]!=False and G[min_key][j]!=0:\n",
    "            new_dist = min_value+G[min_key][j]\n",
    "            if j in temp.keys() and temp[j]>new_dist:\n",
    "                temp[j]=new_dist\n",
    "\n",
    "print(dist)\n",
    "        \n",
    "    "
   ]
  },
  {
   "cell_type": "code",
   "execution_count": 23,
   "id": "c4c59582-d6bf-4da8-8609-c428270e374d",
   "metadata": {},
   "outputs": [
    {
     "name": "stdout",
     "output_type": "stream",
     "text": [
      "Minimum cost =  19\n",
      "(3, (0, 1, 2, 3))\n",
      "(4, (0, 1, 2, 4))\n",
      "(2, (0, 1, 2))\n",
      "(2, (0, 1, 3, 2))\n",
      "(4, (0, 1, 3, 4))\n",
      "(3, (0, 1, 3))\n",
      "(2, (0, 1, 4, 2))\n",
      "(3, (0, 1, 4, 3))\n",
      "(4, (0, 1, 4))\n",
      "(1, (0, 1))\n",
      "(3, (0, 2, 1, 3))\n",
      "(4, (0, 2, 1, 4))\n",
      "(1, (0, 2, 1))\n",
      "(1, (0, 2, 3, 1))\n",
      "(4, (0, 2, 3, 4))\n",
      "(3, (0, 2, 3))\n",
      "(1, (0, 2, 4, 1))\n",
      "(3, (0, 2, 4, 3))\n",
      "(4, (0, 2, 4))\n",
      "(2, (0, 2))\n",
      "(2, (0, 3, 1, 2))\n",
      "(4, (0, 3, 1, 4))\n",
      "(1, (0, 3, 1))\n",
      "(1, (0, 3, 2, 1))\n",
      "(4, (0, 3, 2, 4))\n",
      "(2, (0, 3, 2))\n",
      "(1, (0, 3, 4, 1))\n",
      "(2, (0, 3, 4, 2))\n",
      "(4, (0, 3, 4))\n",
      "(3, (0, 3))\n",
      "(2, (0, 4, 1, 2))\n",
      "(3, (0, 4, 1, 3))\n",
      "(1, (0, 4, 1))\n",
      "(1, (0, 4, 2, 1))\n",
      "(3, (0, 4, 2, 3))\n",
      "(2, (0, 4, 2))\n",
      "(1, (0, 4, 3, 1))\n",
      "(2, (0, 4, 3, 2))\n",
      "(3, (0, 4, 3))\n",
      "(4, (0, 4))\n",
      "(0, (0,))\n"
     ]
    }
   ],
   "source": [
    "import sys\n",
    "def cost(curr,visited,G,DP):\n",
    "    n=len(G)\n",
    "    \n",
    "    if len(visited)==n:\n",
    "        return G[curr][0]\n",
    "        \n",
    "    visit = tuple(visited)\n",
    "    if (curr,visit) in DP:\n",
    "        return DP[(curr,visit)]\n",
    "    \n",
    "    min_cost = sys.maxsize\n",
    "    \n",
    "    for i in range(n):\n",
    "        if i not in visited:\n",
    "            new_visit=visited+[i]\n",
    "            new_cost = G[curr][i]+cost(i,new_visit,G,DP)\n",
    "            min_cost=min(min_cost,new_cost)\n",
    "    DP[(curr,visit)]=min_cost\n",
    "    return min_cost\n",
    "\n",
    "G = [\n",
    "    [0,4,7,5,5],\n",
    "    [4,0,2,3,8],\n",
    "    [7,2,0,3,4],\n",
    "    [5,3,3,0,6],\n",
    "    [5,8,4,6,0]\n",
    "]\n",
    "\n",
    "n = len(G)\n",
    "DP = {}\n",
    "print(\"Minimum cost = \",cost(0,[0],G,DP))\n",
    "for i in DP:\n",
    "    print(i)"
   ]
  },
  {
   "cell_type": "code",
   "execution_count": null,
   "id": "8e7691fb-94c1-48ce-804c-c32d868c2171",
   "metadata": {},
   "outputs": [],
   "source": []
  }
 ],
 "metadata": {
  "kernelspec": {
   "display_name": "Python 3 (ipykernel)",
   "language": "python",
   "name": "python3"
  },
  "language_info": {
   "codemirror_mode": {
    "name": "ipython",
    "version": 3
   },
   "file_extension": ".py",
   "mimetype": "text/x-python",
   "name": "python",
   "nbconvert_exporter": "python",
   "pygments_lexer": "ipython3",
   "version": "3.12.3"
  }
 },
 "nbformat": 4,
 "nbformat_minor": 5
}
