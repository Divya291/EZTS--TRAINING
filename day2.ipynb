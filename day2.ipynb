{
 "cells": [
  {
   "cell_type": "code",
   "execution_count": 7,
   "id": "36b44ec0-bbd5-4739-98d8-ef67c5d97000",
   "metadata": {},
   "outputs": [
    {
     "name": "stdout",
     "output_type": "stream",
     "text": [
      "neha 20 F\n",
      "<class '__main__.Student'>\n"
     ]
    }
   ],
   "source": [
    "class Student:\n",
    "    def __init__(self,nm,ag,gn):\n",
    "        self.name = nm\n",
    "        self.age = ag\n",
    "        self.gender = gn\n",
    "\n",
    "\n",
    "st1 = Student(\"neha\",20,'F')\n",
    "print(st1.name,st1.age,st1.gender)\n",
    "print(type(st1))\n"
   ]
  },
  {
   "cell_type": "code",
   "execution_count": 5,
   "id": "703992d9-4bb0-4b60-9f37-8e7171401546",
   "metadata": {},
   "outputs": [
    {
     "name": "stdin",
     "output_type": "stream",
     "text": [
      "enter your name:  Divya\n",
      "enter your age:  20\n",
      "enter your name:  F\n"
     ]
    },
    {
     "name": "stdout",
     "output_type": "stream",
     "text": [
      "Divya 20 F\n"
     ]
    }
   ],
   "source": [
    "class STD:\n",
    "    def __init__(self):\n",
    "        self.name = None\n",
    "        self.age = None\n",
    "        self.gender = None\n",
    "\n",
    "st2 = STD()\n",
    "\n",
    "st2.name = input(\"enter your name: \")\n",
    "st2.age = int(input(\"enter your age: \"))\n",
    "st2.gender = input(\"enter your name: \")\n",
    "\n",
    "print(st2.name,st2.age,st2.gender)\n"
   ]
  },
  {
   "cell_type": "code",
   "execution_count": 6,
   "id": "075d2cf5-382e-46c6-9f19-7d4ab18363a1",
   "metadata": {},
   "outputs": [
    {
     "name": "stdin",
     "output_type": "stream",
     "text": [
      "enter your name:  neha\n",
      "enter your age:  20\n",
      "enter your name:  female\n"
     ]
    },
    {
     "name": "stdout",
     "output_type": "stream",
     "text": [
      "neha 20 female\n"
     ]
    }
   ],
   "source": [
    "class STUDENT:\n",
    "    def __init__(self,nm,ag,gn):\n",
    "        self.name = nm\n",
    "        self.age = ag\n",
    "        self.gender = gn\n",
    "\n",
    "a = input(\"enter your name: \")\n",
    "b = int(input(\"enter your age: \"))\n",
    "c = input(\"enter your name: \")\n",
    "\n",
    "st3 = STUDENT(a,b,c)\n",
    "\n",
    "print(st3.name,st3.age,st3.gender)"
   ]
  },
  {
   "cell_type": "code",
   "execution_count": 8,
   "id": "9a5a3b18-f650-4cba-ba5b-00942bdeea27",
   "metadata": {},
   "outputs": [
    {
     "name": "stdout",
     "output_type": "stream",
     "text": [
      "<class 'int'>\n",
      "<class 'str'>\n",
      "<class 'float'>\n",
      "<class 'list'>\n",
      "<class 'dict'>\n"
     ]
    }
   ],
   "source": [
    "a = 1\n",
    "b = 'sdfg'\n",
    "c = 2.8\n",
    "d = ['sdfg','sd',1,3,]\n",
    "e = {1:\"sdfg\",2:\"drfgy\"}\n",
    "\n",
    "print(type(a))\n",
    "print(type(b))\n",
    "print(type(c))\n",
    "print(type(d))\n",
    "print(type(e))"
   ]
  },
  {
   "cell_type": "code",
   "execution_count": 9,
   "id": "8df8fc67-d3d6-4986-9d19-34f3fc3f4240",
   "metadata": {},
   "outputs": [
    {
     "name": "stdout",
     "output_type": "stream",
     "text": [
      "neha 20 F\n",
      "<class '__main__.INT'>\n"
     ]
    }
   ],
   "source": [
    "class INT:\n",
    "    def __init__(self,nm,ag,gn):\n",
    "        self.name = nm\n",
    "        self.age = ag\n",
    "        self.gender = gn\n",
    "\n",
    "\n",
    "st1 = INT(\"neha\",20,'F')\n",
    "print(st1.name,st1.age,st1.gender)\n",
    "print(type(st1))\n"
   ]
  },
  {
   "cell_type": "code",
   "execution_count": 23,
   "id": "3d209b21-4f82-4759-ad43-b8f3e321d1e3",
   "metadata": {},
   "outputs": [
    {
     "name": "stdout",
     "output_type": "stream",
     "text": [
      "2\n",
      "5\n",
      "None\n"
     ]
    }
   ],
   "source": [
    "#Inheritance\n",
    "\n",
    "class A :\n",
    "    def __init__(self,a,b):\n",
    "        self.A =a\n",
    "        self.__B=b\n",
    "    def printB(self):\n",
    "        print(self.__B)\n",
    "        '''\n",
    "    def _fun1_(self):\n",
    "        print(\"this is class A function 1\")\n",
    "    def fun3(self):\n",
    "        print(\"this is class A function 3\")\n",
    "\n",
    "class B(A) :\n",
    "    def fun2(self):\n",
    "        print(\"this is class A function 2\")\n",
    "        '''\n",
    "\n",
    "ob1 = A(2,5)\n",
    "'''\n",
    "ob2 = B()\n",
    "ob1.b = 20\n",
    "\n",
    "print(ob1.A,ob1.__B)\n",
    "\n",
    "ob2.fun3()\n",
    "ob2.fun1()\n",
    "'''\n",
    "print(ob1.A)\n",
    "print(ob1.printB())"
   ]
  },
  {
   "cell_type": "code",
   "execution_count": 32,
   "id": "d0f33ec0-0cbc-4f0f-a02c-ec74aa807ace",
   "metadata": {},
   "outputs": [
    {
     "name": "stdout",
     "output_type": "stream",
     "text": [
      "<class '__main__.STD'>\n"
     ]
    }
   ],
   "source": [
    "class STD:\n",
    "    def __init__(self):\n",
    "        self.usn = None\n",
    "        self.name = None\n",
    "        self.marks = []\n",
    "        self.percentage = None\n",
    "        self.grade = None\n",
    "\n",
    "    def STD_Input(self):\n",
    "        self.name = input(\"enter your name: \")\n",
    "        self.usn = input(\"enter your usn: \")\n",
    "        for i in range(0,5):\n",
    "            marks = input(f\"enter the marks in sub{i+1}:\")\n",
    "        print(\"marks:\",self.marks.append()\n",
    "\n",
    "    def calc_percentage(self):\n",
    "        sum = 0\n",
    "        for i in self.marks:\n",
    "            sum = sum + i\n",
    "        self.percentage = (sum/500)*100\n",
    "\n",
    "    def calc_grade(self):\n",
    "        per = self.__percentage\n",
    "        if per<=100 and per>=80:\n",
    "            self.grade = \"A\"\n",
    "        elif per<80 and per>=60:\n",
    "            self.grade = \"B\"\n",
    "        elif per<60 and per>=40:\n",
    "            self.grade = \"C\"\n",
    "        elif per<40 and per>=0:\n",
    "            self.grade = \"D\"\n",
    "        else:\n",
    "            self.grade = \"invalid\"\n",
    "\n",
    "    def print_details(self):\n",
    "        print(\"name: \" + self.name)\n",
    "        print(\"usn: \" + self.usn)\n",
    "        print(\"marks in 5 subjects are: \")\n",
    "        for i in range(0,5):\n",
    "            print(f\"subject {i+1} = {self.marks[i]}\")\n",
    "        print(\"percentage : \" , self.percentage)\n",
    "        print(\"grade : \" , self.grade)\n",
    "\n",
    "st1 = STD()\n",
    "print(type(st1))"
   ]
  },
  {
   "cell_type": "code",
   "execution_count": 34,
   "id": "3c71de53-490b-4dc9-bc0f-befa450c5844",
   "metadata": {},
   "outputs": [
    {
     "name": "stdout",
     "output_type": "stream",
     "text": [
      "<class '__main__.Std'>\n"
     ]
    },
    {
     "name": "stdin",
     "output_type": "stream",
     "text": [
      "Enter your Name:  div\n",
      "Enter Your USN:  041\n",
      "Enter Your Marks in Sub1 :  89\n",
      "Enter Your Marks in Sub2 :  79\n",
      "Enter Your Marks in Sub3 :  93\n",
      "Enter Your Marks in Sub4 :  82\n",
      "Enter Your Marks in Sub5 :  65\n"
     ]
    },
    {
     "name": "stdout",
     "output_type": "stream",
     "text": [
      "Name:  div\n",
      "USN :  041\n",
      "Marks in Five Subject are :\n",
      "Subject 1 = 89\n",
      "Subject 2 = 79\n",
      "Subject 3 = 93\n",
      "Subject 4 = 82\n",
      "Subject 5 = 65\n",
      "Percentage :  81.6\n",
      "Grade :  A\n"
     ]
    }
   ],
   "source": [
    "class Std:\n",
    "    def __init__(self): \n",
    "        self.__USN = None\n",
    "        self.__Name = None\n",
    "        self.__Marks = []\n",
    "        self.__Percentage = None\n",
    "        self.__Grade = None\n",
    "\n",
    "    def Std_Input(self):\n",
    "        self.__Name = input(\"Enter your Name: \")\n",
    "        self.__USN = input(\"Enter Your USN: \")\n",
    "        for i in range (0,5):\n",
    "            marks = input(f\"Enter Your Marks in Sub{i+1} : \")\n",
    "            self.__Marks.append(marks)\n",
    "\n",
    "    def calc_percentage (self):\n",
    "        sum = 0\n",
    "        for i in self.__Marks:\n",
    "            sum = sum + int(i)\n",
    "        self.__Percentage = (sum/500)*100\n",
    "\n",
    "    def calc_Grade(self):\n",
    "        per = float(self.__Percentage)\n",
    "        if per<=100 and per >=80:\n",
    "            self.__Grade = \"A\"\n",
    "        elif per<80 and per >=60:\n",
    "            self.__Grade = \"B\"\n",
    "        elif per<60 and per >=40:\n",
    "            self.__Grade = \"C\"\n",
    "        elif per<40 and per >=0:\n",
    "            self.__Grade = \"D\"\n",
    "        else: \n",
    "            self.__Grade = \"Inavlid\"\n",
    "\n",
    "    def print_details(self):\n",
    "        print(\"Name: \",self.__Name)\n",
    "        print(\"USN : \",self.__USN)\n",
    "        print(\"Marks in Five Subject are :\")\n",
    "        for i in range(0,5):\n",
    "            print(f\"Subject {i+1} = {self.__Marks[i]}\")\n",
    "        print(\"Percentage : \", self.__Percentage)\n",
    "        print(\"Grade : \", self.__Grade)\n",
    "\n",
    "    def convert_list(self):\n",
    "        st_list = [self.__USN,self.__Name,self.__Marks,self.__Percentage,self.__Grade]\n",
    "        return st_list\n",
    "\n",
    "    def covert_ob(self,stu_list):\n",
    "        self.__USN = stu_list[0]\n",
    "        self.__Name = stu_list[1]\n",
    "        self.__Marks = stu_list[2]\n",
    "        self.__Percentage = stu_list[3]\n",
    "        self.__Grade = stu_list[4]\n",
    "\n",
    "\n",
    "\n",
    "st1 = Std()\n",
    "\n",
    "print(type(st1))\n",
    "\n",
    "st1.Std_Input()\n",
    "\n",
    "st1.calc_percentage()\n",
    "st1.calc_Grade()\n",
    "\n",
    "st1.print_details()"
   ]
  },
  {
   "cell_type": "code",
   "execution_count": 36,
   "id": "407e7990-78b1-4e74-918c-6498e9f36ce5",
   "metadata": {},
   "outputs": [],
   "source": [
    "with open(\"student.txt\",'wb') as File:\n",
    "    L=st1.convert_list()\n",
    "    data = f\"{L[0]}|{L[1]}|{L[2][0]},{L[2][1]},{L[2][2]},{L[2][3]},{L[2][4]}|{L[3]}|{L[4]}\\n\"\n",
    "    File.write(data.encode())\n",
    "    File.close()"
   ]
  },
  {
   "cell_type": "code",
   "execution_count": 38,
   "id": "87134fe7-83b0-4154-b50d-6b2051adbd97",
   "metadata": {},
   "outputs": [
    {
     "name": "stdout",
     "output_type": "stream",
     "text": [
      "041|div|89,79,93,82,65|81.6|A\n",
      "\n",
      "['041', 'div', ['89', '79', '93', '82', '65'], '81.6', 'A\\n']\n",
      "Name:  div\n",
      "USN :  041\n",
      "Marks in Five Subject are :\n",
      "Subject 1 = 89\n",
      "Subject 2 = 79\n",
      "Subject 3 = 93\n",
      "Subject 4 = 82\n",
      "Subject 5 = 65\n",
      "Percentage :  81.6\n",
      "Grade :  A\n",
      "\n"
     ]
    }
   ],
   "source": [
    "stu_list=[]\n",
    "\n",
    "with open(\"student.txt\",'rb') as File:\n",
    "    data = File.readline().decode('utf-8')\n",
    "    print(data)\n",
    "    for i in data.split(\"|\"):\n",
    "        stu_list.append(i)\n",
    "    mrks=stu_list[2]\n",
    "    mrks_list = []\n",
    "    for i in mrks.split(','):\n",
    "        mrks_list.append(i)\n",
    "    stu_list[2]=mrks_list\n",
    "\n",
    "\n",
    "print(stu_list)\n",
    "st2=Std()\n",
    "st2.covert_ob(stu_list)\n",
    "st2.print_details()\n",
    "    "
   ]
  },
  {
   "cell_type": "code",
   "execution_count": null,
   "id": "9820239b-d99f-47d1-9d8a-73cb13e4f945",
   "metadata": {},
   "outputs": [],
   "source": []
  }
 ],
 "metadata": {
  "kernelspec": {
   "display_name": "Python 3 (ipykernel)",
   "language": "python",
   "name": "python3"
  },
  "language_info": {
   "codemirror_mode": {
    "name": "ipython",
    "version": 3
   },
   "file_extension": ".py",
   "mimetype": "text/x-python",
   "name": "python",
   "nbconvert_exporter": "python",
   "pygments_lexer": "ipython3",
   "version": "3.12.3"
  }
 },
 "nbformat": 4,
 "nbformat_minor": 5
}
