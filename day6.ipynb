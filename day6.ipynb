{
 "cells": [
  {
   "cell_type": "code",
   "execution_count": 1,
   "id": "003dc3ed-83f0-4b6c-9c3a-2c58c2f889ec",
   "metadata": {},
   "outputs": [
    {
     "name": "stdin",
     "output_type": "stream",
     "text": [
      " 2.45*5.43\n"
     ]
    },
    {
     "name": "stdout",
     "output_type": "stream",
     "text": [
      "13.3035\n"
     ]
    }
   ],
   "source": [
    "#Basic Calculator \n",
    "\n",
    "s=input()\n",
    "OP=['+','-','*','/']\n",
    "for i in s:\n",
    "    if i in OP:\n",
    "        x=i\n",
    "        s=s.replace(x,\" \")\n",
    "\n",
    "l=list(map(float,s.split()))\n",
    "\n",
    "match x:\n",
    "    case '+': print(l[0]+l[1])\n",
    "    case '-': print(l[0]-l[1])\n",
    "    case '*': print(l[0]*l[1])\n",
    "    case '/': print(l[0]/l[1])\n",
    "    case _ : print(\"Invalid Operator\")"
   ]
  },
  {
   "cell_type": "code",
   "execution_count": null,
   "id": "dd3c8b93-21f5-4d30-965b-c95892eedc01",
   "metadata": {},
   "outputs": [],
   "source": [
    "sorting"
   ]
  },
  {
   "cell_type": "code",
   "execution_count": 5,
   "id": "181ebb47-f23f-42c0-9216-d67a4beedcc5",
   "metadata": {},
   "outputs": [
    {
     "name": "stdout",
     "output_type": "stream",
     "text": [
      "[5, 7, 10, 15, 23]\n"
     ]
    }
   ],
   "source": [
    "#bubble sorting\n",
    "l=[10,5,7,23,15]\n",
    "n = len(l)\n",
    "for j in range(0,n):\n",
    "    for i in range(0,n-1-j):\n",
    "        if l[i]>l[i+1]:\n",
    "            l[i],l[i+1]=l[i+1],l[i]\n",
    "            \n",
    "print(l)\n",
    "        "
   ]
  },
  {
   "cell_type": "code",
   "execution_count": 7,
   "id": "9c6f3db4-a422-4322-add0-4e02c1d63b3a",
   "metadata": {},
   "outputs": [
    {
     "name": "stdin",
     "output_type": "stream",
     "text": [
      "enter elemants in list:  10,2,3,6,4,8\n"
     ]
    },
    {
     "name": "stdout",
     "output_type": "stream",
     "text": [
      "[2, 3, 4, 6, 8, 10]\n"
     ]
    }
   ],
   "source": [
    "#bubble sorting\n",
    "l=list(map(int,input(\"enter elemants in list: \").split(\",\")))\n",
    "n = len(l)\n",
    "for j in range(0,n):\n",
    "    for i in range(0,n-1-j):\n",
    "        if l[i]>l[i+1]:\n",
    "            l[i],l[i+1]=l[i+1],l[i]\n",
    "            \n",
    "print(l)\n",
    "        "
   ]
  },
  {
   "cell_type": "code",
   "execution_count": 18,
   "id": "3a2daea2-922b-404d-866a-47fa61d4255c",
   "metadata": {},
   "outputs": [
    {
     "name": "stdin",
     "output_type": "stream",
     "text": [
      "enter elemants in list:  3,6,4,2,7\n"
     ]
    },
    {
     "name": "stdout",
     "output_type": "stream",
     "text": [
      "2\n"
     ]
    }
   ],
   "source": [
    "#bubble sorting\n",
    "#minimum number\n",
    "l=list(map(int,input(\"enter elemants in list: \").split(\",\")))\n",
    "n = len(l)\n",
    "min = l[0]\n",
    "for j in range(0,n):\n",
    "    for i in range(0,n-1-j):\n",
    "        if min>l[i+1]:\n",
    "            min = l[i+1]\n",
    "            \n",
    "print(min)\n",
    "        "
   ]
  },
  {
   "cell_type": "code",
   "execution_count": 24,
   "id": "66a9fafd-eb91-43c5-9e7b-dbc26cb17313",
   "metadata": {},
   "outputs": [
    {
     "name": "stdin",
     "output_type": "stream",
     "text": [
      "enter elemants in list:  3,7,4,1,8,5\n"
     ]
    },
    {
     "name": "stdout",
     "output_type": "stream",
     "text": [
      "8\n"
     ]
    }
   ],
   "source": [
    "#bubble sorting\n",
    "#maximum number\n",
    "l=list(map(int,input(\"enter elemants in list: \").split(\",\")))\n",
    "n = len(l)\n",
    "max = l[0]\n",
    "for j in range(0,n):\n",
    "    for i in range(0,n-1-j):\n",
    "        if max<l[i+1]:\n",
    "            max = l[i+1]\n",
    "            \n",
    "print(max)\n",
    "        "
   ]
  },
  {
   "cell_type": "code",
   "execution_count": 33,
   "id": "9928c723-b32f-4385-974d-f378d8c1a40b",
   "metadata": {},
   "outputs": [
    {
     "name": "stdout",
     "output_type": "stream",
     "text": [
      "[1, 3, 5, 7, 8, 9, 10, 26, 44]\n"
     ]
    }
   ],
   "source": [
    "#selection sorting\n",
    "l = [9,7,5,8,10,26,44,3,1]\n",
    "n = len(l)\n",
    "for i in range(0,n):\n",
    "    pos = i\n",
    "    min = l[i]\n",
    "    for j in range(i,n):\n",
    "        if l[j]<min:\n",
    "            min = l[j]\n",
    "            pos = j\n",
    "    l[i],l[pos]=l[pos],l[i]\n",
    "            \n",
    "print(l)"
   ]
  },
  {
   "cell_type": "code",
   "execution_count": 1,
   "id": "ddf5cc81-22b7-40e5-9e7a-f67d7697eece",
   "metadata": {},
   "outputs": [
    {
     "name": "stdout",
     "output_type": "stream",
     "text": [
      "[1, 3, 5, 7, 8, 9, 10, 26, 44]\n"
     ]
    }
   ],
   "source": [
    "#insertion sort\n",
    "l = [9, 7, 5, 8, 10, 26, 44, 3, 1]\n",
    "n = len(l)\n",
    "\n",
    "for i in range(1, n):\n",
    "    key = l[i]  \n",
    "    j = i - 1   \n",
    "    while j >= 0 and l[j] > key:\n",
    "        l[j + 1] = l[j]\n",
    "        j -= 1\n",
    "    \n",
    "    l[j + 1] = key\n",
    "\n",
    "print(l)\n"
   ]
  },
  {
   "cell_type": "code",
   "execution_count": null,
   "id": "4809f52a-a585-4988-9ffc-7282d8febbd7",
   "metadata": {},
   "outputs": [],
   "source": [
    "RECURSION"
   ]
  },
  {
   "cell_type": "code",
   "execution_count": 42,
   "id": "fdb857cf-a22c-4379-9098-cc0f5002711c",
   "metadata": {},
   "outputs": [
    {
     "name": "stdin",
     "output_type": "stream",
     "text": [
      " 20\n"
     ]
    },
    {
     "name": "stdout",
     "output_type": "stream",
     "text": [
      "4181\n",
      "[13529]\n"
     ]
    }
   ],
   "source": [
    "#recursion FAB series\n",
    "t = [0]\n",
    "def fib(n):\n",
    "    t[0]+=1\n",
    "    if n == 1:\n",
    "        return 0\n",
    "    if n == 2:\n",
    "        return 1\n",
    "    return fib(n-1)+fib(n-2)\n",
    "\n",
    "if __name__ == \"__main__\":\n",
    "    n = int(input())\n",
    "    print(fib(n))\n",
    "    print(t)"
   ]
  },
  {
   "cell_type": "code",
   "execution_count": null,
   "id": "f36d35ee-ccc7-412c-bbb9-2a60b06df4cc",
   "metadata": {},
   "outputs": [],
   "source": [
    "QUICK SORT"
   ]
  },
  {
   "cell_type": "code",
   "execution_count": 53,
   "id": "87f70410-4140-4aa6-aeb4-8f98f29780d2",
   "metadata": {},
   "outputs": [
    {
     "name": "stdin",
     "output_type": "stream",
     "text": [
      " 4 7 8 3 2 9 1 5\n"
     ]
    },
    {
     "name": "stdout",
     "output_type": "stream",
     "text": [
      "0 7\n",
      "4 0 7\n",
      "0 0 3\n",
      "3 1 3\n",
      "1 1 2\n",
      "6 5 7\n",
      "sorted array=  [1, 2, 3, 4, 5, 7, 8, 9]\n"
     ]
    }
   ],
   "source": [
    "def divide(l,low,high):\n",
    "    p = l[high]\n",
    "    pi=high\n",
    "    j=low-1\n",
    "    for i in range(low,high):\n",
    "        if l[i]<=p:\n",
    "            j+=1\n",
    "            l[i],l[j]=l[j],l[i]\n",
    "\n",
    "    j+=1\n",
    "    l[j],l[pi]=l[pi],l[j]\n",
    "    pi=j\n",
    "    return pi\n",
    "\n",
    "def Quick_sort(l,low,high):\n",
    "    if low<high:\n",
    "        pi=divide(l,low,high)\n",
    "        print(pi,low,high)\n",
    "        Quick_sort(l,low,pi-1)\n",
    "        Quick_sort(l,pi+1,high)\n",
    "    return\n",
    "\n",
    "if __name__==\"__main__\":\n",
    "    l = list(map(int,input().split()))\n",
    "    low = 0\n",
    "    high=len(l)-1\n",
    "    print(low,high)\n",
    "    Quick_sort(l,low,high)\n",
    "    print(\"sorted array= \",l)"
   ]
  },
  {
   "cell_type": "code",
   "execution_count": null,
   "id": "e398d32f-0d0b-4017-bfd1-e8ff9231f950",
   "metadata": {},
   "outputs": [],
   "source": [
    "MERGE SORT"
   ]
  },
  {
   "cell_type": "code",
   "execution_count": 2,
   "id": "df5004b8-4e5d-4a93-b2ef-c09e27cb248f",
   "metadata": {},
   "outputs": [
    {
     "name": "stdin",
     "output_type": "stream",
     "text": [
      " 4 7 8 3 2 9 1 5\n"
     ]
    },
    {
     "name": "stdout",
     "output_type": "stream",
     "text": [
      "Sorted Array =  [1, 2, 3, 4, 5, 7, 8, 9]\n"
     ]
    }
   ],
   "source": [
    "#merge Sort\n",
    "\n",
    "def merge(left,right):\n",
    "    i=j=0\n",
    "    temp=[]\n",
    "\n",
    "    while i<len(left) and j<len(right):\n",
    "        if left[i]<right[j]:\n",
    "            temp.append(left[i])\n",
    "            i+=1\n",
    "        else:\n",
    "            temp.append(right[j])\n",
    "            j+=1\n",
    "            \n",
    "    while i<len(left):\n",
    "        temp.append(left[i])\n",
    "        i+=1\n",
    "        \n",
    "    while j<len(right):\n",
    "        temp.append(right[j])\n",
    "        j+=1\n",
    "\n",
    "    return temp\n",
    "\n",
    "def mergesort(L):\n",
    "    if len(L) <= 1:\n",
    "        return L\n",
    "        \n",
    "    mid = len(L)//2\n",
    "    left=L[:mid] \n",
    "    right=L[mid:]\n",
    "    \n",
    "    left_sorted = mergesort(left)\n",
    "    right_sorted = mergesort(right)\n",
    "    \n",
    "    return merge(left_sorted,right_sorted)\n",
    "\n",
    "\n",
    "if __name__==\"__main__\":\n",
    "    L=list(map(int,input().split())) # 4 7 8 3 2 9 1 5\n",
    "    sorted=mergesort(L)\n",
    "\n",
    "    print(\"Sorted Array = \",sorted)"
   ]
  },
  {
   "cell_type": "code",
   "execution_count": null,
   "id": "88c65760-bc92-49d6-b5ec-630907bf5d2c",
   "metadata": {},
   "outputs": [],
   "source": []
  }
 ],
 "metadata": {
  "kernelspec": {
   "display_name": "Python 3 (ipykernel)",
   "language": "python",
   "name": "python3"
  },
  "language_info": {
   "codemirror_mode": {
    "name": "ipython",
    "version": 3
   },
   "file_extension": ".py",
   "mimetype": "text/x-python",
   "name": "python",
   "nbconvert_exporter": "python",
   "pygments_lexer": "ipython3",
   "version": "3.12.3"
  }
 },
 "nbformat": 4,
 "nbformat_minor": 5
}
