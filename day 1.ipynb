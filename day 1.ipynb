{
 "cells": [
  {
   "cell_type": "code",
   "execution_count": 9,
   "id": "3762cf71-fe30-4cbb-92a8-03c2d52fc755",
   "metadata": {},
   "outputs": [
    {
     "name": "stdout",
     "output_type": "stream",
     "text": [
      "[1, 2, 4.5, 'abcd', 5, 'asdf', 6.3, 6, True, 99]\n"
     ]
    },
    {
     "data": {
      "text/plain": [
       "'\\nappend\\nadd\\nremove\\ninsert\\nupdate\\npop\\nsort\\nreverse\\nextend\\ncopy\\nclear\\ncount\\nindex\\n'"
      ]
     },
     "execution_count": 9,
     "metadata": {},
     "output_type": "execute_result"
    }
   ],
   "source": [
    "L = [1,2,4.5,\"abcd\",5,'asdf',6.3,6,True,99]\n",
    "print(L)\n",
    "'''\n",
    "append\n",
    "add\n",
    "remove\n",
    "insert\n",
    "update\n",
    "pop\n",
    "sort\n",
    "reverse\n",
    "extend\n",
    "copy\n",
    "clear\n",
    "count\n",
    "index\n",
    "'''\n"
   ]
  },
  {
   "cell_type": "code",
   "execution_count": 62,
   "id": "eb489f26-0625-4971-883a-161b36bde892",
   "metadata": {},
   "outputs": [
    {
     "name": "stdin",
     "output_type": "stream",
     "text": [
      "Enter the votes:  1 2 3 4 5 6 5 4 3 2 1 1 2 1 3 4 3 5 6 3 2 3 4 6 1 2 3 3 4 2 1\n"
     ]
    },
    {
     "name": "stdout",
     "output_type": "stream",
     "text": [
      "[1, 2, 3, 4, 5, 6, 5, 4, 3, 2, 1, 1, 2, 1, 3, 4, 3, 5, 6, 3, 2, 3, 4, 6, 1, 2, 3, 3, 4, 2, 1] [6, 6, 8, 5, 3, 3]\n"
     ]
    }
   ],
   "source": [
    "vote = list(map(int,input(\"Enter the votes: \").split(\" \")))\n",
    "count = [0]*6\n",
    "for i in vote:\n",
    "    count[i-1] = count[i-1]+1\n",
    "print(vote,count)"
   ]
  },
  {
   "cell_type": "code",
   "execution_count": 25,
   "id": "93d82f75-141c-4d1a-88dd-c8d55c3192c2",
   "metadata": {},
   "outputs": [
    {
     "name": "stdin",
     "output_type": "stream",
     "text": [
      "Enter the votes:  1 2 3 4 5 6 1 2 3 4 5 6 2 4 6 1 3 2 4 5 3 3 4 2 5 3 4 6\n"
     ]
    },
    {
     "name": "stdout",
     "output_type": "stream",
     "text": [
      "1 [1, 0, 0, 0, 0, 0]\n",
      "2 [1, 1, 0, 0, 0, 0]\n",
      "3 [1, 1, 1, 0, 0, 0]\n",
      "4 [1, 1, 1, 1, 0, 0]\n",
      "5 [1, 1, 1, 1, 1, 0]\n",
      "6 [1, 1, 1, 1, 1, 1]\n",
      "1 [2, 1, 1, 1, 1, 1]\n",
      "2 [2, 2, 1, 1, 1, 1]\n",
      "3 [2, 2, 2, 1, 1, 1]\n",
      "4 [2, 2, 2, 2, 1, 1]\n",
      "5 [2, 2, 2, 2, 2, 1]\n",
      "6 [2, 2, 2, 2, 2, 2]\n",
      "2 [2, 3, 2, 2, 2, 2]\n",
      "4 [2, 3, 2, 3, 2, 2]\n",
      "6 [2, 3, 2, 3, 2, 3]\n",
      "1 [3, 3, 2, 3, 2, 3]\n",
      "3 [3, 3, 3, 3, 2, 3]\n",
      "2 [3, 4, 3, 3, 2, 3]\n",
      "4 [3, 4, 3, 4, 2, 3]\n",
      "5 [3, 4, 3, 4, 3, 3]\n",
      "3 [3, 4, 4, 4, 3, 3]\n",
      "3 [3, 4, 5, 4, 3, 3]\n",
      "4 [3, 4, 5, 5, 3, 3]\n",
      "2 [3, 5, 5, 5, 3, 3]\n",
      "5 [3, 5, 5, 5, 4, 3]\n",
      "3 [3, 5, 6, 5, 4, 3]\n",
      "4 [3, 5, 6, 6, 4, 3]\n",
      "6 [3, 5, 6, 6, 4, 4]\n",
      "final count=  [3, 5, 6, 6, 4, 4]\n"
     ]
    }
   ],
   "source": [
    "vote = list(map(int,input(\"Enter the votes: \").split(\" \")))\n",
    "count = [0]*6\n",
    "for i in vote:\n",
    "    count[i-1] = count[i-1]+1\n",
    "    print(i,count)\n",
    "print(\"final count= \",count)"
   ]
  },
  {
   "cell_type": "code",
   "execution_count": 26,
   "id": "4b663c69-da48-4c0b-9380-26dafb2e631b",
   "metadata": {},
   "outputs": [
    {
     "name": "stdout",
     "output_type": "stream",
     "text": [
      "[1, 2]\n"
     ]
    }
   ],
   "source": [
    "vote = [1,2]\n",
    "print(vote)"
   ]
  },
  {
   "cell_type": "code",
   "execution_count": 29,
   "id": "bd2d21c4-d4ee-483c-8e4a-6023a3d38c9d",
   "metadata": {},
   "outputs": [
    {
     "name": "stdout",
     "output_type": "stream",
     "text": [
      "HELLO\n",
      "HELLO welcome\n"
     ]
    }
   ],
   "source": [
    "import os\n",
    "\n",
    "#create a file\n",
    "with open(\"file.txt\",'w') as f:\n",
    "    f.write(\"HELLO\")\n",
    "    f.close()\n",
    "#read a file\n",
    "with open(\"file.txt\",'r') as f:\n",
    "    print(f.read())\n",
    "    f.close()\n",
    "#append \n",
    "with open(\"file.txt\",'a') as f:\n",
    "    f.write(\" welcome\")\n",
    "    f.close()\n",
    "with open(\"file.txt\",'r') as f:\n",
    "    print(f.read())\n",
    "    f.close()\n",
    "\n"
   ]
  },
  {
   "cell_type": "code",
   "execution_count": 51,
   "id": "55c911e9-9c3e-400d-807d-2f7d2c443827",
   "metadata": {},
   "outputs": [
    {
     "name": "stdout",
     "output_type": "stream",
     "text": [
      "hi!\n",
      "my name is divya M\n",
      "i am currently in Bellary \n",
      "I am taking super coder batch \n",
      "\n",
      "hi!\n",
      "my name is divya M\n",
      "i am currently in Bellary \n",
      "I am taking super coder batch \n",
      "\n"
     ]
    }
   ],
   "source": [
    "import os\n",
    "\n",
    "with open(\"day1.txt\",'w') as f:\n",
    "    f.write(\"hi!\\n\")\n",
    "    f.write(\"my name is divya M\\n\")\n",
    "    f.write(\"i am currently in Bellary \\n\")\n",
    "    f.write(\"I am taking super coder batch \\n\")\n",
    "    f.close()\n",
    "\n",
    "with open(\"day1.txt\",'r') as f:\n",
    "    print(f.read())\n",
    "    f.close()\n",
    "    \n",
    "with open(\"day1.txt\",'r') as f:\n",
    "    s = f.read()\n",
    "    print(s)\n",
    "    f.close()\n",
    "\n",
    "s = s.replace(\"Bellary\",\"BITM\")\n",
    "\n",
    "with open(\"day1.txt\",'a') as f:\n",
    "    f.write(s)\n",
    "    f.close()\n",
    "\n",
    "    "
   ]
  },
  {
   "cell_type": "code",
   "execution_count": 52,
   "id": "6081723f-d4f8-4ce1-8cc3-86d67bffd10f",
   "metadata": {},
   "outputs": [
    {
     "name": "stdout",
     "output_type": "stream",
     "text": [
      "0\n",
      " \n",
      "I am taking super coder batch \n",
      "\n"
     ]
    }
   ],
   "source": [
    "with open(\"day1.txt\",'rb') as f:\n",
    "    print(f.tell())\n",
    "    f.seek(-35,2)\n",
    "    print(f.read().decode('utf-8'))\n",
    "    f.close()"
   ]
  },
  {
   "cell_type": "code",
   "execution_count": 54,
   "id": "bca900a4-6501-4369-b80c-cad8655440f8",
   "metadata": {},
   "outputs": [
    {
     "name": "stdout",
     "output_type": "stream",
     "text": [
      "0\n"
     ]
    }
   ],
   "source": [
    "with open(\"day1.txt\",'r+b') as f:\n",
    "    print(f.tell())\n",
    "    f.seek(-34,2) #0-starting,2-at last\n",
    "    f.write(b\"#\")\n",
    "    #print(f.read().decode('utf-8'))\n",
    "    f.close()"
   ]
  },
  {
   "cell_type": "code",
   "execution_count": 55,
   "id": "5265405d-288f-4f1f-8fbd-db7d1e580a78",
   "metadata": {},
   "outputs": [],
   "source": [
    "os.remove(\"file.txt\")"
   ]
  },
  {
   "cell_type": "code",
   "execution_count": 60,
   "id": "552a119b-6e6f-4002-b20c-19a63a0ab7fb",
   "metadata": {},
   "outputs": [],
   "source": [
    "with open(\"file1.txt\",'wb') as f:\n",
    "    eid = 1\n",
    "    name = 'Bat'\n",
    "    condition = 'good'\n",
    "    s = f\"{eid},{name},{condition}\\n\"\n",
    "    f.write(s.encode())\n",
    "    s = f\"{eid},{name},{condition}\\n\"\n",
    "    f.write(s.encode())\n",
    "    f.close()"
   ]
  },
  {
   "cell_type": "code",
   "execution_count": 63,
   "id": "fb488718-ebff-4a0b-89a2-9dac80e0cb75",
   "metadata": {},
   "outputs": [
    {
     "name": "stdout",
     "output_type": "stream",
     "text": [
      "enter total number of sport equipment\n"
     ]
    },
    {
     "name": "stdin",
     "output_type": "stream",
     "text": [
      " 10\n"
     ]
    },
    {
     "name": "stdout",
     "output_type": "stream",
     "text": [
      "enter equipment id\n"
     ]
    },
    {
     "name": "stdin",
     "output_type": "stream",
     "text": [
      " b01\n"
     ]
    },
    {
     "name": "stdout",
     "output_type": "stream",
     "text": [
      "enter equipment \n"
     ]
    },
    {
     "name": "stdin",
     "output_type": "stream",
     "text": [
      " bat\n"
     ]
    },
    {
     "name": "stdout",
     "output_type": "stream",
     "text": [
      "enter equipment condition\n"
     ]
    },
    {
     "name": "stdin",
     "output_type": "stream",
     "text": [
      " goo\n"
     ]
    },
    {
     "name": "stdout",
     "output_type": "stream",
     "text": [
      "enter equipment id\n"
     ]
    },
    {
     "name": "stdin",
     "output_type": "stream",
     "text": [
      " b02\n"
     ]
    },
    {
     "name": "stdout",
     "output_type": "stream",
     "text": [
      "enter equipment \n"
     ]
    },
    {
     "name": "stdin",
     "output_type": "stream",
     "text": [
      " bat\n"
     ]
    },
    {
     "name": "stdout",
     "output_type": "stream",
     "text": [
      "enter equipment condition\n"
     ]
    },
    {
     "name": "stdin",
     "output_type": "stream",
     "text": [
      " better\n"
     ]
    },
    {
     "name": "stdout",
     "output_type": "stream",
     "text": [
      "enter equipment id\n"
     ]
    },
    {
     "name": "stdin",
     "output_type": "stream",
     "text": [
      " vb01\n"
     ]
    },
    {
     "name": "stdout",
     "output_type": "stream",
     "text": [
      "enter equipment \n"
     ]
    },
    {
     "name": "stdin",
     "output_type": "stream",
     "text": [
      " vollyball\n"
     ]
    },
    {
     "name": "stdout",
     "output_type": "stream",
     "text": [
      "enter equipment condition\n"
     ]
    },
    {
     "name": "stdin",
     "output_type": "stream",
     "text": [
      " good\n"
     ]
    },
    {
     "name": "stdout",
     "output_type": "stream",
     "text": [
      "enter equipment id\n"
     ]
    },
    {
     "name": "stdin",
     "output_type": "stream",
     "text": [
      " vb02\n"
     ]
    },
    {
     "name": "stdout",
     "output_type": "stream",
     "text": [
      "enter equipment \n"
     ]
    },
    {
     "name": "stdin",
     "output_type": "stream",
     "text": [
      " vollyball\n"
     ]
    },
    {
     "name": "stdout",
     "output_type": "stream",
     "text": [
      "enter equipment condition\n"
     ]
    },
    {
     "name": "stdin",
     "output_type": "stream",
     "text": [
      " better\n"
     ]
    },
    {
     "name": "stdout",
     "output_type": "stream",
     "text": [
      "enter equipment id\n"
     ]
    },
    {
     "name": "stdin",
     "output_type": "stream",
     "text": [
      " bb01\n"
     ]
    },
    {
     "name": "stdout",
     "output_type": "stream",
     "text": [
      "enter equipment \n"
     ]
    },
    {
     "name": "stdin",
     "output_type": "stream",
     "text": [
      " basketball\n"
     ]
    },
    {
     "name": "stdout",
     "output_type": "stream",
     "text": [
      "enter equipment condition\n"
     ]
    },
    {
     "name": "stdin",
     "output_type": "stream",
     "text": [
      " good\n"
     ]
    },
    {
     "name": "stdout",
     "output_type": "stream",
     "text": [
      "enter equipment id\n"
     ]
    },
    {
     "name": "stdin",
     "output_type": "stream",
     "text": [
      " bb02\n"
     ]
    },
    {
     "name": "stdout",
     "output_type": "stream",
     "text": [
      "enter equipment \n"
     ]
    },
    {
     "name": "stdin",
     "output_type": "stream",
     "text": [
      " basketball\n"
     ]
    },
    {
     "name": "stdout",
     "output_type": "stream",
     "text": [
      "enter equipment condition\n"
     ]
    },
    {
     "name": "stdin",
     "output_type": "stream",
     "text": [
      " better\n"
     ]
    },
    {
     "name": "stdout",
     "output_type": "stream",
     "text": [
      "enter equipment id\n"
     ]
    },
    {
     "name": "stdin",
     "output_type": "stream",
     "text": [
      " fb01\n"
     ]
    },
    {
     "name": "stdout",
     "output_type": "stream",
     "text": [
      "enter equipment \n"
     ]
    },
    {
     "name": "stdin",
     "output_type": "stream",
     "text": [
      " football\n"
     ]
    },
    {
     "name": "stdout",
     "output_type": "stream",
     "text": [
      "enter equipment condition\n"
     ]
    },
    {
     "name": "stdin",
     "output_type": "stream",
     "text": [
      " good\n"
     ]
    },
    {
     "name": "stdout",
     "output_type": "stream",
     "text": [
      "enter equipment id\n"
     ]
    },
    {
     "name": "stdin",
     "output_type": "stream",
     "text": [
      " bb02\n"
     ]
    },
    {
     "name": "stdout",
     "output_type": "stream",
     "text": [
      "enter equipment \n"
     ]
    },
    {
     "name": "stdin",
     "output_type": "stream",
     "text": [
      " basketball\n"
     ]
    },
    {
     "name": "stdout",
     "output_type": "stream",
     "text": [
      "enter equipment condition\n"
     ]
    },
    {
     "name": "stdin",
     "output_type": "stream",
     "text": [
      " better\n"
     ]
    },
    {
     "name": "stdout",
     "output_type": "stream",
     "text": [
      "enter equipment id\n"
     ]
    },
    {
     "name": "stdin",
     "output_type": "stream",
     "text": [
      " r01\n"
     ]
    },
    {
     "name": "stdout",
     "output_type": "stream",
     "text": [
      "enter equipment \n"
     ]
    },
    {
     "name": "stdin",
     "output_type": "stream",
     "text": [
      " racket\n"
     ]
    },
    {
     "name": "stdout",
     "output_type": "stream",
     "text": [
      "enter equipment condition\n"
     ]
    },
    {
     "name": "stdin",
     "output_type": "stream",
     "text": [
      " good\n"
     ]
    },
    {
     "name": "stdout",
     "output_type": "stream",
     "text": [
      "enter equipment id\n"
     ]
    },
    {
     "name": "stdin",
     "output_type": "stream",
     "text": [
      " r02\n"
     ]
    },
    {
     "name": "stdout",
     "output_type": "stream",
     "text": [
      "enter equipment \n"
     ]
    },
    {
     "name": "stdin",
     "output_type": "stream",
     "text": [
      " racket\n"
     ]
    },
    {
     "name": "stdout",
     "output_type": "stream",
     "text": [
      "enter equipment condition\n"
     ]
    },
    {
     "name": "stdin",
     "output_type": "stream",
     "text": [
      " better\n"
     ]
    }
   ],
   "source": [
    "with open(\"sport_db.txt\",'wb') as f:\n",
    "    print('enter total number of sport equipment')\n",
    "    n = int(input())\n",
    "    for i in range(0,n):\n",
    "        print('enter equipment id')\n",
    "        eid = input()\n",
    "        print('enter equipment ')\n",
    "        name = input()\n",
    "        print('enter equipment condition')\n",
    "        condition = input()\n",
    "        s = f\"{eid},{name},{condition}\\n\"\n",
    "        f.write(s.encode())\n",
    "    f.close()\n",
    "        "
   ]
  },
  {
   "cell_type": "code",
   "execution_count": 1,
   "id": "85d406ea-5300-4ff5-87f6-28ecf0696ce8",
   "metadata": {},
   "outputs": [
    {
     "name": "stdout",
     "output_type": "stream",
     "text": [
      "enter total number of sport equipment\n"
     ]
    },
    {
     "name": "stdin",
     "output_type": "stream",
     "text": [
      " 10\n"
     ]
    },
    {
     "name": "stdout",
     "output_type": "stream",
     "text": [
      "enter 1 st equipment id \n"
     ]
    },
    {
     "name": "stdin",
     "output_type": "stream",
     "text": [
      " b001\n"
     ]
    },
    {
     "name": "stdout",
     "output_type": "stream",
     "text": [
      "enter 1 st equipment name \n"
     ]
    },
    {
     "name": "stdin",
     "output_type": "stream",
     "text": [
      " bat\n"
     ]
    },
    {
     "name": "stdout",
     "output_type": "stream",
     "text": [
      "enter 1 st equipment condition\n"
     ]
    },
    {
     "name": "stdin",
     "output_type": "stream",
     "text": [
      " good\n"
     ]
    },
    {
     "name": "stdout",
     "output_type": "stream",
     "text": [
      "enter 2 st equipment id \n"
     ]
    },
    {
     "name": "stdin",
     "output_type": "stream",
     "text": [
      " b002\n"
     ]
    },
    {
     "name": "stdout",
     "output_type": "stream",
     "text": [
      "enter 2 st equipment name \n"
     ]
    },
    {
     "name": "stdin",
     "output_type": "stream",
     "text": [
      " bat\n"
     ]
    },
    {
     "name": "stdout",
     "output_type": "stream",
     "text": [
      "enter 2 st equipment condition\n"
     ]
    },
    {
     "name": "stdin",
     "output_type": "stream",
     "text": [
      " good\n"
     ]
    },
    {
     "name": "stdout",
     "output_type": "stream",
     "text": [
      "enter 3 st equipment id \n"
     ]
    },
    {
     "name": "stdin",
     "output_type": "stream",
     "text": [
      " fb001\n"
     ]
    },
    {
     "name": "stdout",
     "output_type": "stream",
     "text": [
      "enter 3 st equipment name \n"
     ]
    },
    {
     "name": "stdin",
     "output_type": "stream",
     "text": [
      " football\n"
     ]
    },
    {
     "name": "stdout",
     "output_type": "stream",
     "text": [
      "enter 3 st equipment condition\n"
     ]
    },
    {
     "name": "stdin",
     "output_type": "stream",
     "text": [
      " better\n"
     ]
    },
    {
     "name": "stdout",
     "output_type": "stream",
     "text": [
      "enter 4 st equipment id \n"
     ]
    },
    {
     "name": "stdin",
     "output_type": "stream",
     "text": [
      " fb001\n"
     ]
    },
    {
     "name": "stdout",
     "output_type": "stream",
     "text": [
      "enter 4 st equipment name \n"
     ]
    },
    {
     "name": "stdin",
     "output_type": "stream",
     "text": [
      " football\n"
     ]
    },
    {
     "name": "stdout",
     "output_type": "stream",
     "text": [
      "enter 4 st equipment condition\n"
     ]
    },
    {
     "name": "stdin",
     "output_type": "stream",
     "text": [
      " good\n"
     ]
    },
    {
     "name": "stdout",
     "output_type": "stream",
     "text": [
      "enter 5 st equipment id \n"
     ]
    },
    {
     "name": "stdin",
     "output_type": "stream",
     "text": [
      " vb001\n"
     ]
    },
    {
     "name": "stdout",
     "output_type": "stream",
     "text": [
      "enter 5 st equipment name \n"
     ]
    },
    {
     "name": "stdin",
     "output_type": "stream",
     "text": [
      " volleyball\n"
     ]
    },
    {
     "name": "stdout",
     "output_type": "stream",
     "text": [
      "enter 5 st equipment condition\n"
     ]
    },
    {
     "name": "stdin",
     "output_type": "stream",
     "text": [
      " good\n"
     ]
    },
    {
     "name": "stdout",
     "output_type": "stream",
     "text": [
      "enter 6 st equipment id \n"
     ]
    },
    {
     "name": "stdin",
     "output_type": "stream",
     "text": [
      " vb002\n"
     ]
    },
    {
     "name": "stdout",
     "output_type": "stream",
     "text": [
      "enter 6 st equipment name \n"
     ]
    },
    {
     "name": "stdin",
     "output_type": "stream",
     "text": [
      " volleyball\n"
     ]
    },
    {
     "name": "stdout",
     "output_type": "stream",
     "text": [
      "enter 6 st equipment condition\n"
     ]
    },
    {
     "name": "stdin",
     "output_type": "stream",
     "text": [
      " better\n"
     ]
    },
    {
     "name": "stdout",
     "output_type": "stream",
     "text": [
      "enter 7 st equipment id \n"
     ]
    },
    {
     "name": "stdin",
     "output_type": "stream",
     "text": [
      " r001\n"
     ]
    },
    {
     "name": "stdout",
     "output_type": "stream",
     "text": [
      "enter 7 st equipment name \n"
     ]
    },
    {
     "name": "stdin",
     "output_type": "stream",
     "text": [
      " racket\n"
     ]
    },
    {
     "name": "stdout",
     "output_type": "stream",
     "text": [
      "enter 7 st equipment condition\n"
     ]
    },
    {
     "name": "stdin",
     "output_type": "stream",
     "text": [
      " good\n"
     ]
    },
    {
     "name": "stdout",
     "output_type": "stream",
     "text": [
      "enter 8 st equipment id \n"
     ]
    },
    {
     "name": "stdin",
     "output_type": "stream",
     "text": [
      " r002\n"
     ]
    },
    {
     "name": "stdout",
     "output_type": "stream",
     "text": [
      "enter 8 st equipment name \n"
     ]
    },
    {
     "name": "stdin",
     "output_type": "stream",
     "text": [
      " racket\n"
     ]
    },
    {
     "name": "stdout",
     "output_type": "stream",
     "text": [
      "enter 8 st equipment condition\n"
     ]
    },
    {
     "name": "stdin",
     "output_type": "stream",
     "text": [
      " better\n"
     ]
    },
    {
     "name": "stdout",
     "output_type": "stream",
     "text": [
      "enter 9 st equipment id \n"
     ]
    },
    {
     "name": "stdin",
     "output_type": "stream",
     "text": [
      " 1\n"
     ]
    },
    {
     "name": "stdout",
     "output_type": "stream",
     "text": [
      "enter 9 st equipment name \n"
     ]
    },
    {
     "name": "stdin",
     "output_type": "stream",
     "text": [
      " basketball\n"
     ]
    },
    {
     "name": "stdout",
     "output_type": "stream",
     "text": [
      "enter 9 st equipment condition\n"
     ]
    },
    {
     "name": "stdin",
     "output_type": "stream",
     "text": [
      " good\n"
     ]
    },
    {
     "name": "stdout",
     "output_type": "stream",
     "text": [
      "enter 10 st equipment id \n"
     ]
    },
    {
     "name": "stdin",
     "output_type": "stream",
     "text": [
      " bb002\n"
     ]
    },
    {
     "name": "stdout",
     "output_type": "stream",
     "text": [
      "enter 10 st equipment name \n"
     ]
    },
    {
     "name": "stdin",
     "output_type": "stream",
     "text": [
      " basketball\n"
     ]
    },
    {
     "name": "stdout",
     "output_type": "stream",
     "text": [
      "enter 10 st equipment condition\n"
     ]
    },
    {
     "name": "stdin",
     "output_type": "stream",
     "text": [
      " better\n"
     ]
    }
   ],
   "source": [
    "with open(\"sport_db.txt\",'wb') as f:\n",
    "    print('enter total number of sport equipment')\n",
    "    n = int(input())\n",
    "    for i in range(0,n):\n",
    "        print(\"enter\",i+1,\"st equipment id \")\n",
    "        eid = input()\n",
    "        print(\"enter\",i+1,\"st equipment name \")\n",
    "        name = input()\n",
    "        print(\"enter\",i+1,\"st equipment condition\")\n",
    "        condition = input()\n",
    "        s = f\"{eid},{name},{condition}\\n\"\n",
    "        f.write(s.encode())\n",
    "    f.close()\n",
    "        "
   ]
  },
  {
   "cell_type": "code",
   "execution_count": null,
   "id": "65d6bcf5-bdb8-47d0-8614-149fac141e75",
   "metadata": {},
   "outputs": [],
   "source": []
  }
 ],
 "metadata": {
  "kernelspec": {
   "display_name": "Python 3 (ipykernel)",
   "language": "python",
   "name": "python3"
  },
  "language_info": {
   "codemirror_mode": {
    "name": "ipython",
    "version": 3
   },
   "file_extension": ".py",
   "mimetype": "text/x-python",
   "name": "python",
   "nbconvert_exporter": "python",
   "pygments_lexer": "ipython3",
   "version": "3.12.3"
  }
 },
 "nbformat": 4,
 "nbformat_minor": 5
}
